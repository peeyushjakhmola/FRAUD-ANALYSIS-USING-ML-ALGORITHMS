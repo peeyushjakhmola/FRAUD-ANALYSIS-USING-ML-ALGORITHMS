{
 "cells": [
  {
   "cell_type": "markdown",
   "id": "1b1a785c",
   "metadata": {},
   "source": [
    "# CAPSTONE PROJECT - 6    FRAUD ANALYSIS USING ML ALGORITHMS"
   ]
  },
  {
   "cell_type": "code",
   "execution_count": 1,
   "id": "77981402",
   "metadata": {},
   "outputs": [],
   "source": [
    "import numpy as np\n",
    "import pandas as pd\n",
    "from IPython.display import display, HTML\n",
    "%matplotlib inline\n",
    "import datetime\n",
    "import seaborn as sns\n",
    "from sklearn.model_selection import cross_val_score \n",
    "import matplotlib.pyplot as plt\n",
    "from sklearn.metrics import confusion_matrix,classification_report,accuracy_score,precision_score\n"
   ]
  },
  {
   "cell_type": "raw",
   "id": "862b2321",
   "metadata": {},
   "source": [
    "Problem Statement: In this capstone project, you are going to analyze customer’s purchase data set and build a machine learning algorithm to detect fraud purchases. And also you are going to perform customer segmentation\n",
    "\n",
    "Dataset: Purchase_Fraud_Data.csv\n",
    "\n",
    "Dataset Description: Every row in this dataset contains information about purchases from multiple customers. Along with purchase details, we also have customer basic details like gender, date of birth etc. Individual column description as follows\n",
    "\n",
    "User_id:        Customer unique id\n",
    "\n",
    "Signup_time:    Date & Time at which the customer signup in the platform\n",
    "\n",
    "Purchase_time:  The latest purchase date & time from a customer\n",
    "\n",
    "Purchase_value: Total purchase amount\n",
    "\n",
    "Device_id:      Unique device ID from which purchase was done\n",
    "\n",
    "Source:         Medium through which customers reached the platform\n",
    "\n",
    "Browser:        Browser used while purchasing\n",
    "\n",
    "IP_address:     IP Address from which purchase was done\n",
    "\n",
    "Class: 1 =      Target class; Fraud transaction; 0=Regular transaction\n",
    "\n",
    "Category:       Type of product purchased\n",
    "Dob:            Date of birth of the customer\n",
    "\n",
    "\n",
    "Dataset Description: Every row in this dataset contains information about purchases from multiple customers. \n",
    "Along with purchase details, we also have customer basic details like gender, date of birth etc. Individual column description as follows"
   ]
  },
  {
   "cell_type": "code",
   "execution_count": 2,
   "id": "88e80011",
   "metadata": {},
   "outputs": [],
   "source": [
    "df = pd.read_csv('C:\\\\Users\\\\ayush\\\\Desktop\\\\udemy ml\\\\1 Fraud Analysis using ML Algorithms\\\\Purchase_Fraud_Data.csv')\n",
    "df.head(5)\n",
    "df1=df.copy()"
   ]
  },
  {
   "cell_type": "code",
   "execution_count": 4,
   "id": "cb99e9df",
   "metadata": {},
   "outputs": [
    {
     "data": {
      "text/plain": [
       "(151112, 12)"
      ]
     },
     "execution_count": 4,
     "metadata": {},
     "output_type": "execute_result"
    }
   ],
   "source": [
    "df.shape"
   ]
  },
  {
   "cell_type": "code",
   "execution_count": 6,
   "id": "18c69e8f",
   "metadata": {},
   "outputs": [
    {
     "data": {
      "text/plain": [
       "user_id           151112\n",
       "signup_time       151112\n",
       "purchase_time     151112\n",
       "purchase_value    151112\n",
       "device_id         151112\n",
       "source            151112\n",
       "browser           151112\n",
       "sex               146185\n",
       "ip_address        151112\n",
       "class             151112\n",
       "category          151112\n",
       "dob               146188\n",
       "dtype: int64"
      ]
     },
     "execution_count": 6,
     "metadata": {},
     "output_type": "execute_result"
    }
   ],
   "source": [
    "df.count()"
   ]
  },
  {
   "cell_type": "code",
   "execution_count": 3,
   "id": "c698498e",
   "metadata": {},
   "outputs": [
    {
     "data": {
      "text/html": [
       "<div>\n",
       "<style scoped>\n",
       "    .dataframe tbody tr th:only-of-type {\n",
       "        vertical-align: middle;\n",
       "    }\n",
       "\n",
       "    .dataframe tbody tr th {\n",
       "        vertical-align: top;\n",
       "    }\n",
       "\n",
       "    .dataframe thead th {\n",
       "        text-align: right;\n",
       "    }\n",
       "</style>\n",
       "<table border=\"1\" class=\"dataframe\">\n",
       "  <thead>\n",
       "    <tr style=\"text-align: right;\">\n",
       "      <th></th>\n",
       "      <th>user_id</th>\n",
       "      <th>purchase_value</th>\n",
       "      <th>ip_address</th>\n",
       "      <th>class</th>\n",
       "    </tr>\n",
       "  </thead>\n",
       "  <tbody>\n",
       "    <tr>\n",
       "      <th>count</th>\n",
       "      <td>151112.000000</td>\n",
       "      <td>151112.000000</td>\n",
       "      <td>1.511120e+05</td>\n",
       "      <td>151112.000000</td>\n",
       "    </tr>\n",
       "    <tr>\n",
       "      <th>mean</th>\n",
       "      <td>200171.040970</td>\n",
       "      <td>50521.469003</td>\n",
       "      <td>2.152145e+09</td>\n",
       "      <td>0.093646</td>\n",
       "    </tr>\n",
       "    <tr>\n",
       "      <th>std</th>\n",
       "      <td>115369.285024</td>\n",
       "      <td>28533.667117</td>\n",
       "      <td>1.248497e+09</td>\n",
       "      <td>0.291336</td>\n",
       "    </tr>\n",
       "    <tr>\n",
       "      <th>min</th>\n",
       "      <td>2.000000</td>\n",
       "      <td>1016.000000</td>\n",
       "      <td>5.209350e+04</td>\n",
       "      <td>0.000000</td>\n",
       "    </tr>\n",
       "    <tr>\n",
       "      <th>25%</th>\n",
       "      <td>100642.500000</td>\n",
       "      <td>25919.000000</td>\n",
       "      <td>1.085934e+09</td>\n",
       "      <td>0.000000</td>\n",
       "    </tr>\n",
       "    <tr>\n",
       "      <th>50%</th>\n",
       "      <td>199958.000000</td>\n",
       "      <td>50484.000000</td>\n",
       "      <td>2.154770e+09</td>\n",
       "      <td>0.000000</td>\n",
       "    </tr>\n",
       "    <tr>\n",
       "      <th>75%</th>\n",
       "      <td>300054.000000</td>\n",
       "      <td>75296.250000</td>\n",
       "      <td>3.243258e+09</td>\n",
       "      <td>0.000000</td>\n",
       "    </tr>\n",
       "    <tr>\n",
       "      <th>max</th>\n",
       "      <td>400000.000000</td>\n",
       "      <td>100092.000000</td>\n",
       "      <td>4.294850e+09</td>\n",
       "      <td>1.000000</td>\n",
       "    </tr>\n",
       "  </tbody>\n",
       "</table>\n",
       "</div>"
      ],
      "text/plain": [
       "             user_id  purchase_value    ip_address          class\n",
       "count  151112.000000   151112.000000  1.511120e+05  151112.000000\n",
       "mean   200171.040970    50521.469003  2.152145e+09       0.093646\n",
       "std    115369.285024    28533.667117  1.248497e+09       0.291336\n",
       "min         2.000000     1016.000000  5.209350e+04       0.000000\n",
       "25%    100642.500000    25919.000000  1.085934e+09       0.000000\n",
       "50%    199958.000000    50484.000000  2.154770e+09       0.000000\n",
       "75%    300054.000000    75296.250000  3.243258e+09       0.000000\n",
       "max    400000.000000   100092.000000  4.294850e+09       1.000000"
      ]
     },
     "execution_count": 3,
     "metadata": {},
     "output_type": "execute_result"
    }
   ],
   "source": [
    "df.describe()"
   ]
  },
  {
   "cell_type": "code",
   "execution_count": 10,
   "id": "2a2e59fd",
   "metadata": {},
   "outputs": [
    {
     "data": {
      "text/plain": [
       "user_id              0\n",
       "signup_time          0\n",
       "purchase_time        0\n",
       "purchase_value       0\n",
       "device_id            0\n",
       "source               0\n",
       "browser              0\n",
       "sex               4927\n",
       "ip_address           0\n",
       "class                0\n",
       "category             0\n",
       "dob               4924\n",
       "dtype: int64"
      ]
     },
     "execution_count": 10,
     "metadata": {},
     "output_type": "execute_result"
    }
   ],
   "source": [
    "df.isna().sum()"
   ]
  },
  {
   "cell_type": "code",
   "execution_count": 4,
   "id": "d4114770",
   "metadata": {},
   "outputs": [
    {
     "name": "stdout",
     "output_type": "stream",
     "text": [
      "<class 'pandas.core.frame.DataFrame'>\n",
      "RangeIndex: 151112 entries, 0 to 151111\n",
      "Data columns (total 12 columns):\n",
      " #   Column          Non-Null Count   Dtype  \n",
      "---  ------          --------------   -----  \n",
      " 0   user_id         151112 non-null  int64  \n",
      " 1   signup_time     151112 non-null  object \n",
      " 2   purchase_time   151112 non-null  object \n",
      " 3   purchase_value  151112 non-null  int64  \n",
      " 4   device_id       151112 non-null  object \n",
      " 5   source          151112 non-null  object \n",
      " 6   browser         151112 non-null  object \n",
      " 7   sex             146185 non-null  object \n",
      " 8   ip_address      151112 non-null  float64\n",
      " 9   class           151112 non-null  int64  \n",
      " 10  category        151112 non-null  object \n",
      " 11  dob             146188 non-null  object \n",
      "dtypes: float64(1), int64(3), object(8)\n",
      "memory usage: 13.8+ MB\n"
     ]
    }
   ],
   "source": [
    "df.info()"
   ]
  },
  {
   "cell_type": "code",
   "execution_count": 5,
   "id": "c48c60b6",
   "metadata": {},
   "outputs": [
    {
     "data": {
      "text/plain": [
       "user_id           0.000000\n",
       "signup_time       0.000000\n",
       "purchase_time     0.000000\n",
       "purchase_value    0.000000\n",
       "device_id         0.000000\n",
       "source            0.000000\n",
       "browser           0.000000\n",
       "sex               3.260496\n",
       "ip_address        0.000000\n",
       "class             0.000000\n",
       "category          0.000000\n",
       "dob               3.258510\n",
       "dtype: float64"
      ]
     },
     "execution_count": 5,
     "metadata": {},
     "output_type": "execute_result"
    }
   ],
   "source": [
    "df.isna().sum()/len(df)*100\n",
    "#we can see the null values in Sex and Dob"
   ]
  },
  {
   "cell_type": "code",
   "execution_count": 6,
   "id": "0be3d099",
   "metadata": {},
   "outputs": [],
   "source": [
    "#Since it has null values less than 10 % we can drop sex and dob columns."
   ]
  },
  {
   "cell_type": "code",
   "execution_count": 7,
   "id": "f932b89d",
   "metadata": {},
   "outputs": [
    {
     "data": {
      "text/plain": [
       "0    136961\n",
       "1     14151\n",
       "Name: class, dtype: int64"
      ]
     },
     "execution_count": 7,
     "metadata": {},
     "output_type": "execute_result"
    }
   ],
   "source": [
    "df['class'].value_counts()"
   ]
  },
  {
   "cell_type": "code",
   "execution_count": 8,
   "id": "9d84234c",
   "metadata": {},
   "outputs": [
    {
     "data": {
      "text/html": [
       "<div>\n",
       "<style scoped>\n",
       "    .dataframe tbody tr th:only-of-type {\n",
       "        vertical-align: middle;\n",
       "    }\n",
       "\n",
       "    .dataframe tbody tr th {\n",
       "        vertical-align: top;\n",
       "    }\n",
       "\n",
       "    .dataframe thead th {\n",
       "        text-align: right;\n",
       "    }\n",
       "</style>\n",
       "<table border=\"1\" class=\"dataframe\">\n",
       "  <thead>\n",
       "    <tr style=\"text-align: right;\">\n",
       "      <th></th>\n",
       "      <th>user_id</th>\n",
       "      <th>signup_time</th>\n",
       "      <th>purchase_time</th>\n",
       "      <th>purchase_value</th>\n",
       "      <th>device_id</th>\n",
       "      <th>source</th>\n",
       "      <th>browser</th>\n",
       "      <th>sex</th>\n",
       "      <th>ip_address</th>\n",
       "      <th>class</th>\n",
       "      <th>category</th>\n",
       "      <th>dob</th>\n",
       "    </tr>\n",
       "  </thead>\n",
       "  <tbody>\n",
       "    <tr>\n",
       "      <th>0</th>\n",
       "      <td>22058</td>\n",
       "      <td>2015-02-24 22:55:49</td>\n",
       "      <td>2015-04-18 02:47:11</td>\n",
       "      <td>65278</td>\n",
       "      <td>QVPSPJUOCKZAR</td>\n",
       "      <td>SEO</td>\n",
       "      <td>Chrome</td>\n",
       "      <td>M</td>\n",
       "      <td>7.327584e+08</td>\n",
       "      <td>0</td>\n",
       "      <td>home_essentials</td>\n",
       "      <td>22-2-1976</td>\n",
       "    </tr>\n",
       "    <tr>\n",
       "      <th>1</th>\n",
       "      <td>333320</td>\n",
       "      <td>2015-06-07 20:39:50</td>\n",
       "      <td>2015-06-08 01:38:54</td>\n",
       "      <td>96399</td>\n",
       "      <td>EOGFQPIZPYXFZ</td>\n",
       "      <td>Ads</td>\n",
       "      <td>Chrome</td>\n",
       "      <td>F</td>\n",
       "      <td>3.503114e+08</td>\n",
       "      <td>0</td>\n",
       "      <td>apparels</td>\n",
       "      <td>2-1-1962</td>\n",
       "    </tr>\n",
       "    <tr>\n",
       "      <th>2</th>\n",
       "      <td>1359</td>\n",
       "      <td>2015-01-01 18:52:44</td>\n",
       "      <td>2015-01-01 18:52:45</td>\n",
       "      <td>57296</td>\n",
       "      <td>YSSKYOSJHPPLJ</td>\n",
       "      <td>SEO</td>\n",
       "      <td>Opera</td>\n",
       "      <td>M</td>\n",
       "      <td>2.621474e+09</td>\n",
       "      <td>1</td>\n",
       "      <td>electronics</td>\n",
       "      <td>5-3-1962</td>\n",
       "    </tr>\n",
       "    <tr>\n",
       "      <th>3</th>\n",
       "      <td>150084</td>\n",
       "      <td>2015-04-28 21:13:25</td>\n",
       "      <td>2015-05-04 13:54:50</td>\n",
       "      <td>43650</td>\n",
       "      <td>ATGTXKYKUDUQN</td>\n",
       "      <td>SEO</td>\n",
       "      <td>Safari</td>\n",
       "      <td>M</td>\n",
       "      <td>3.840542e+09</td>\n",
       "      <td>0</td>\n",
       "      <td>health_care</td>\n",
       "      <td>3-7-1974</td>\n",
       "    </tr>\n",
       "    <tr>\n",
       "      <th>4</th>\n",
       "      <td>221365</td>\n",
       "      <td>2015-07-21 07:09:52</td>\n",
       "      <td>2015-09-09 18:40:53</td>\n",
       "      <td>45016</td>\n",
       "      <td>NAUITBZFJKHWW</td>\n",
       "      <td>Ads</td>\n",
       "      <td>Safari</td>\n",
       "      <td>M</td>\n",
       "      <td>4.155831e+08</td>\n",
       "      <td>0</td>\n",
       "      <td>home_essentials</td>\n",
       "      <td>25-8-1970</td>\n",
       "    </tr>\n",
       "  </tbody>\n",
       "</table>\n",
       "</div>"
      ],
      "text/plain": [
       "   user_id          signup_time        purchase_time  purchase_value  \\\n",
       "0    22058  2015-02-24 22:55:49  2015-04-18 02:47:11           65278   \n",
       "1   333320  2015-06-07 20:39:50  2015-06-08 01:38:54           96399   \n",
       "2     1359  2015-01-01 18:52:44  2015-01-01 18:52:45           57296   \n",
       "3   150084  2015-04-28 21:13:25  2015-05-04 13:54:50           43650   \n",
       "4   221365  2015-07-21 07:09:52  2015-09-09 18:40:53           45016   \n",
       "\n",
       "       device_id source browser sex    ip_address  class         category  \\\n",
       "0  QVPSPJUOCKZAR    SEO  Chrome   M  7.327584e+08      0  home_essentials   \n",
       "1  EOGFQPIZPYXFZ    Ads  Chrome   F  3.503114e+08      0         apparels   \n",
       "2  YSSKYOSJHPPLJ    SEO   Opera   M  2.621474e+09      1      electronics   \n",
       "3  ATGTXKYKUDUQN    SEO  Safari   M  3.840542e+09      0      health_care   \n",
       "4  NAUITBZFJKHWW    Ads  Safari   M  4.155831e+08      0  home_essentials   \n",
       "\n",
       "         dob  \n",
       "0  22-2-1976  \n",
       "1   2-1-1962  \n",
       "2   5-3-1962  \n",
       "3   3-7-1974  \n",
       "4  25-8-1970  "
      ]
     },
     "execution_count": 8,
     "metadata": {},
     "output_type": "execute_result"
    }
   ],
   "source": [
    "df = df.dropna()\n",
    "df.head()"
   ]
  },
  {
   "cell_type": "code",
   "execution_count": 9,
   "id": "3c4bd866",
   "metadata": {},
   "outputs": [
    {
     "data": {
      "text/plain": [
       "0    128164\n",
       "1     13240\n",
       "Name: class, dtype: int64"
      ]
     },
     "execution_count": 9,
     "metadata": {},
     "output_type": "execute_result"
    }
   ],
   "source": [
    "df['class'].value_counts()"
   ]
  },
  {
   "cell_type": "code",
   "execution_count": 10,
   "id": "1d81e26b",
   "metadata": {},
   "outputs": [
    {
     "name": "stdout",
     "output_type": "stream",
     "text": [
      "<class 'pandas.core.frame.DataFrame'>\n",
      "Int64Index: 141404 entries, 0 to 151111\n",
      "Data columns (total 12 columns):\n",
      " #   Column          Non-Null Count   Dtype  \n",
      "---  ------          --------------   -----  \n",
      " 0   user_id         141404 non-null  int64  \n",
      " 1   signup_time     141404 non-null  object \n",
      " 2   purchase_time   141404 non-null  object \n",
      " 3   purchase_value  141404 non-null  int64  \n",
      " 4   device_id       141404 non-null  object \n",
      " 5   source          141404 non-null  object \n",
      " 6   browser         141404 non-null  object \n",
      " 7   sex             141404 non-null  object \n",
      " 8   ip_address      141404 non-null  float64\n",
      " 9   class           141404 non-null  int64  \n",
      " 10  category        141404 non-null  object \n",
      " 11  dob             141404 non-null  object \n",
      "dtypes: float64(1), int64(3), object(8)\n",
      "memory usage: 14.0+ MB\n"
     ]
    }
   ],
   "source": [
    "df.info()"
   ]
  },
  {
   "cell_type": "code",
   "execution_count": 11,
   "id": "f1ed2d9a",
   "metadata": {},
   "outputs": [
    {
     "data": {
      "text/plain": [
       "user_id           0.0\n",
       "signup_time       0.0\n",
       "purchase_time     0.0\n",
       "purchase_value    0.0\n",
       "device_id         0.0\n",
       "source            0.0\n",
       "browser           0.0\n",
       "sex               0.0\n",
       "ip_address        0.0\n",
       "class             0.0\n",
       "category          0.0\n",
       "dob               0.0\n",
       "dtype: float64"
      ]
     },
     "execution_count": 11,
     "metadata": {},
     "output_type": "execute_result"
    }
   ],
   "source": [
    "df.isna().sum()/len(df)*100"
   ]
  },
  {
   "cell_type": "code",
   "execution_count": 12,
   "id": "8df3c0f5",
   "metadata": {},
   "outputs": [
    {
     "data": {
      "text/plain": [
       "user_id           0.001247\n",
       "purchase_value    0.000862\n",
       "ip_address       -0.007756\n",
       "class             2.789898\n",
       "dtype: float64"
      ]
     },
     "execution_count": 12,
     "metadata": {},
     "output_type": "execute_result"
    }
   ],
   "source": [
    "df.skew()"
   ]
  },
  {
   "cell_type": "code",
   "execution_count": 13,
   "id": "5423ce2e",
   "metadata": {},
   "outputs": [
    {
     "data": {
      "text/plain": [
       "user_id           1.153234e+05\n",
       "purchase_value    2.853566e+04\n",
       "ip_address        1.248164e+09\n",
       "class             2.913177e-01\n",
       "dtype: float64"
      ]
     },
     "execution_count": 13,
     "metadata": {},
     "output_type": "execute_result"
    }
   ],
   "source": [
    "df.std()"
   ]
  },
  {
   "cell_type": "markdown",
   "id": "a54ce8fe",
   "metadata": {},
   "source": [
    "# Outlier visualization"
   ]
  },
  {
   "cell_type": "code",
   "execution_count": 17,
   "id": "271624c2",
   "metadata": {},
   "outputs": [
    {
     "data": {
      "text/plain": [
       "<AxesSubplot:>"
      ]
     },
     "execution_count": 17,
     "metadata": {},
     "output_type": "execute_result"
    },
    {
     "data": {
      "image/png": "[encoded data removed]",
      "text/plain": [
       "<Figure size 432x288 with 1 Axes>"
      ]
     },
     "metadata": {
      "needs_background": "light"
     },
     "output_type": "display_data"
    }
   ],
   "source": [
    "df.drop(['user_id','ip_address'],axis=1).boxplot()\n",
    "# we can observe that no outlier present."
   ]
  },
  {
   "cell_type": "code",
   "execution_count": 18,
   "id": "318aa13c",
   "metadata": {},
   "outputs": [
    {
     "name": "stdout",
     "output_type": "stream",
     "text": [
      "<class 'pandas.core.frame.DataFrame'>\n",
      "Int64Index: 141404 entries, 0 to 151111\n",
      "Data columns (total 12 columns):\n",
      " #   Column          Non-Null Count   Dtype  \n",
      "---  ------          --------------   -----  \n",
      " 0   user_id         141404 non-null  int64  \n",
      " 1   signup_time     141404 non-null  object \n",
      " 2   purchase_time   141404 non-null  object \n",
      " 3   purchase_value  141404 non-null  int64  \n",
      " 4   device_id       141404 non-null  object \n",
      " 5   source          141404 non-null  object \n",
      " 6   browser         141404 non-null  object \n",
      " 7   sex             141404 non-null  object \n",
      " 8   ip_address      141404 non-null  float64\n",
      " 9   class           141404 non-null  int64  \n",
      " 10  category        141404 non-null  object \n",
      " 11  dob             141404 non-null  object \n",
      "dtypes: float64(1), int64(3), object(8)\n",
      "memory usage: 14.0+ MB\n"
     ]
    }
   ],
   "source": [
    "df.info()"
   ]
  },
  {
   "cell_type": "code",
   "execution_count": 19,
   "id": "37f632a6",
   "metadata": {},
   "outputs": [
    {
     "data": {
      "text/plain": [
       "Index(['signup_time', 'purchase_time', 'device_id', 'source', 'browser', 'sex',\n",
       "       'category', 'dob'],\n",
       "      dtype='object')"
      ]
     },
     "execution_count": 19,
     "metadata": {},
     "output_type": "execute_result"
    }
   ],
   "source": [
    "obj=df.select_dtypes(include='object').columns\n",
    "obj"
   ]
  },
  {
   "cell_type": "code",
   "execution_count": 20,
   "id": "16613470",
   "metadata": {},
   "outputs": [],
   "source": [
    "df1['class']=df1['class'].astype('object')\n"
   ]
  },
  {
   "cell_type": "markdown",
   "id": "ddb38cb3",
   "metadata": {},
   "source": [
    "# UNIVARIATE ANALYSIS OF NUMERICAL COLUMN"
   ]
  },
  {
   "cell_type": "code",
   "execution_count": 21,
   "id": "b3c73ddb",
   "metadata": {},
   "outputs": [],
   "source": [
    "num=['purchase_value']"
   ]
  },
  {
   "cell_type": "code",
   "execution_count": 22,
   "id": "a914dc1c",
   "metadata": {},
   "outputs": [
    {
     "data": {
      "image/png": "[encoded data removed]",
      "text/plain": [
       "<Figure size 864x576 with 1 Axes>"
      ]
     },
     "metadata": {
      "needs_background": "light"
     },
     "output_type": "display_data"
    }
   ],
   "source": [
    "a = 4 \n",
    "b = 2 \n",
    "counter = 1 \n",
    "plt.figure(figsize = [12, 8])\n",
    "\n",
    "for i in num:\n",
    "    plt.subplot(a,b,counter)\n",
    "    plt.title(i)\n",
    "    sns.kdeplot(df1.loc[:, i])\n",
    "    counter = counter+1 \n",
    "plt.tight_layout()\n",
    "plt.show()"
   ]
  },
  {
   "cell_type": "code",
   "execution_count": 23,
   "id": "436f01b8",
   "metadata": {},
   "outputs": [],
   "source": [
    "# Purchase value is highly skewed"
   ]
  },
  {
   "cell_type": "markdown",
   "id": "dbcb64d8",
   "metadata": {},
   "source": [
    "# UNIVARIATE ANALYSIS OF CATEGORICAL COLUMN"
   ]
  },
  {
   "cell_type": "code",
   "execution_count": 24,
   "id": "757cfe14",
   "metadata": {
    "scrolled": true
   },
   "outputs": [
    {
     "data": {
      "image/png": "[encoded data removed]",
      "text/plain": [
       "<Figure size 432x288 with 1 Axes>"
      ]
     },
     "metadata": {},
     "output_type": "display_data"
    }
   ],
   "source": [
    "x=df1['source'].value_counts()\n",
    "plt.pie(x,labels=x.index,autopct='%0.2f',shadow=True)\n",
    "plt.show()"
   ]
  },
  {
   "cell_type": "code",
   "execution_count": 25,
   "id": "c040cb3d",
   "metadata": {},
   "outputs": [],
   "source": [
    "# SEO is highest in percentage followed by Ads and Direct."
   ]
  },
  {
   "cell_type": "code",
   "execution_count": 26,
   "id": "28fa69d8",
   "metadata": {},
   "outputs": [
    {
     "data": {
      "image/png": "[encoded data removed]",
      "text/plain": [
       "<Figure size 432x288 with 1 Axes>"
      ]
     },
     "metadata": {},
     "output_type": "display_data"
    }
   ],
   "source": [
    "x=df1['sex'].value_counts()\n",
    "plt.pie(x,labels=x.index,autopct='%0.2f',shadow=True)\n",
    "plt.show()"
   ]
  },
  {
   "cell_type": "code",
   "execution_count": 27,
   "id": "1a23b33f",
   "metadata": {},
   "outputs": [],
   "source": [
    "# Males are more in percentage as compared to females."
   ]
  },
  {
   "cell_type": "code",
   "execution_count": 28,
   "id": "39b1fdf2",
   "metadata": {},
   "outputs": [
    {
     "data": {
      "image/png": "[encoded data removed]",
      "text/plain": [
       "<Figure size 432x288 with 1 Axes>"
      ]
     },
     "metadata": {},
     "output_type": "display_data"
    }
   ],
   "source": [
    "x=df1['browser'].value_counts()\n",
    "plt.pie(x,labels=x.index,autopct='%0.2f',shadow=True)\n",
    "plt.show()"
   ]
  },
  {
   "cell_type": "code",
   "execution_count": 29,
   "id": "1717b10c",
   "metadata": {},
   "outputs": [],
   "source": [
    "# Most people are using Chrome followed by IE,Safari,Firefox and Opera."
   ]
  },
  {
   "cell_type": "code",
   "execution_count": 30,
   "id": "a979b311",
   "metadata": {},
   "outputs": [
    {
     "data": {
      "image/png": "[encoded data removed]",
      "text/plain": [
       "<Figure size 432x288 with 1 Axes>"
      ]
     },
     "metadata": {},
     "output_type": "display_data"
    }
   ],
   "source": [
    "x=df1['category'].value_counts()\n",
    "plt.pie(x,labels=x.index,autopct='%0.2f',shadow=True)\n",
    "plt.show()"
   ]
  },
  {
   "cell_type": "markdown",
   "id": "6986d8e3",
   "metadata": {},
   "source": [
    "# Bi variate analysis of the categorical columns."
   ]
  },
  {
   "cell_type": "markdown",
   "id": "e69a93ca",
   "metadata": {},
   "source": [
    "# Customer segmentation on the basis of source,browser,sex,category"
   ]
  },
  {
   "cell_type": "code",
   "execution_count": 31,
   "id": "91d3953b",
   "metadata": {},
   "outputs": [],
   "source": [
    "obj=[ 'source', 'browser', 'sex','category']"
   ]
  },
  {
   "cell_type": "code",
   "execution_count": 32,
   "id": "f0a80263",
   "metadata": {},
   "outputs": [
    {
     "data": {
      "image/png": "[encoded data removed]",
      "text/plain": [
       "<Figure size 1008x1008 with 4 Axes>"
      ]
     },
     "metadata": {
      "needs_background": "light"
     },
     "output_type": "display_data"
    }
   ],
   "source": [
    "cols=obj\n",
    "a = 3\n",
    "b = 2\n",
    "counter = 1\n",
    "plt.figure(figsize = [14, 14])\n",
    "for i in cols:\n",
    "    plt.subplot(a,b,counter)\n",
    "    plt.title(i)\n",
    "    sns.countplot(x=df1[i],hue=df1['class'])\n",
    "    counter = counter+1\n",
    "    plt.xticks(rotation=90)    \n",
    "plt.tight_layout()\n",
    "plt.show()  "
   ]
  },
  {
   "cell_type": "raw",
   "id": "cba0217d",
   "metadata": {},
   "source": [
    "1) It can be concluded from first graph that most fraud transactions are done by the source of SEO and ADs.\n",
    "2) Chrome is the most used browser for fraud transactions followed by firefox and safari.\n",
    "3) Males are doing more fraud transactions as compared to females.\n",
    "4) Electronics category has most number of fraud transactions."
   ]
  },
  {
   "cell_type": "markdown",
   "id": "cf7ecc34",
   "metadata": {},
   "source": [
    "# Bi variate analysis of the continuous columns."
   ]
  },
  {
   "cell_type": "markdown",
   "id": "d40e92db",
   "metadata": {},
   "source": [
    "# Customer segmentation on the basis of purchase value"
   ]
  },
  {
   "cell_type": "code",
   "execution_count": 33,
   "id": "a53d73e7",
   "metadata": {},
   "outputs": [],
   "source": [
    "num=df1.select_dtypes(exclude='object').columns"
   ]
  },
  {
   "cell_type": "code",
   "execution_count": 34,
   "id": "2583a636",
   "metadata": {},
   "outputs": [
    {
     "data": {
      "text/plain": [
       "'purchase_value'"
      ]
     },
     "execution_count": 34,
     "metadata": {},
     "output_type": "execute_result"
    }
   ],
   "source": [
    "num[1]"
   ]
  },
  {
   "cell_type": "code",
   "execution_count": 35,
   "id": "477c2d3d",
   "metadata": {},
   "outputs": [
    {
     "data": {
      "text/plain": [
       "<AxesSubplot:title={'center':'category'}, xlabel='class', ylabel='purchase_value'>"
      ]
     },
     "execution_count": 35,
     "metadata": {},
     "output_type": "execute_result"
    },
    {
     "data": {
      "image/png": "[encoded data removed]",
      "text/plain": [
       "<Figure size 576x432 with 1 Axes>"
      ]
     },
     "metadata": {
      "needs_background": "light"
     },
     "output_type": "display_data"
    }
   ],
   "source": [
    "cols=num[1]\n",
    "plt.figure(figsize=[8,6])\n",
    "plt.title(i)\n",
    "sns.barplot(y=df1['purchase_value'],x=df1['class'])"
   ]
  },
  {
   "cell_type": "code",
   "execution_count": 36,
   "id": "8487bb7c",
   "metadata": {},
   "outputs": [],
   "source": [
    "#Equal amount of Average purcahse done by Fraud and non Fraud."
   ]
  },
  {
   "cell_type": "code",
   "execution_count": 37,
   "id": "fbecf6a1",
   "metadata": {},
   "outputs": [
    {
     "data": {
      "text/plain": [
       "1016"
      ]
     },
     "execution_count": 37,
     "metadata": {},
     "output_type": "execute_result"
    }
   ],
   "source": [
    "df1['purchase_value'].min()"
   ]
  },
  {
   "cell_type": "code",
   "execution_count": 38,
   "id": "42779f52",
   "metadata": {},
   "outputs": [
    {
     "data": {
      "text/plain": [
       "50484.0"
      ]
     },
     "execution_count": 38,
     "metadata": {},
     "output_type": "execute_result"
    }
   ],
   "source": [
    "df1['purchase_value'].median()"
   ]
  },
  {
   "cell_type": "code",
   "execution_count": 39,
   "id": "9ced5d88",
   "metadata": {},
   "outputs": [
    {
     "data": {
      "text/plain": [
       "50521.46900312351"
      ]
     },
     "execution_count": 39,
     "metadata": {},
     "output_type": "execute_result"
    }
   ],
   "source": [
    "df1['purchase_value'].mean()"
   ]
  },
  {
   "cell_type": "code",
   "execution_count": 40,
   "id": "b17cd618",
   "metadata": {},
   "outputs": [
    {
     "data": {
      "text/plain": [
       "100092"
      ]
     },
     "execution_count": 40,
     "metadata": {},
     "output_type": "execute_result"
    }
   ],
   "source": [
    "df1['purchase_value'].max()"
   ]
  },
  {
   "cell_type": "markdown",
   "id": "bd596eaa",
   "metadata": {},
   "source": [
    "# Binning of purchase column"
   ]
  },
  {
   "cell_type": "code",
   "execution_count": 41,
   "id": "13398719",
   "metadata": {},
   "outputs": [],
   "source": [
    "df1['Purchase_Amount_Cat']=pd.cut(df['purchase_value'],bins=[1016 ,20000,50000,100092],\n",
    "                                labels=['purchase_value in 1k and  20k','purchase_value in 20k and 50k','purchase_value Between  50k and 100k'])"
   ]
  },
  {
   "cell_type": "code",
   "execution_count": 42,
   "id": "bc669143",
   "metadata": {},
   "outputs": [
    {
     "data": {
      "image/png": "[encoded data removed]",
      "text/plain": [
       "<Figure size 432x288 with 1 Axes>"
      ]
     },
     "metadata": {
      "needs_background": "light"
     },
     "output_type": "display_data"
    }
   ],
   "source": [
    "(pd.crosstab(df1['Purchase_Amount_Cat'],df1['class'],normalize=True)*100).plot(kind=\"bar\")\n",
    "plt.show()"
   ]
  },
  {
   "cell_type": "code",
   "execution_count": 44,
   "id": "fb9cf0f6",
   "metadata": {},
   "outputs": [],
   "source": [
    "# Most of the regular transactions are taking place between purchase amount of 20k to 100k.\n",
    "# Most Fraud Transaction are happening in range 50 k and 100 k"
   ]
  },
  {
   "cell_type": "code",
   "execution_count": 45,
   "id": "b78bfdaa",
   "metadata": {},
   "outputs": [],
   "source": [
    "df.drop(['dob','device_id','ip_address','user_id'],axis=1,inplace=True)"
   ]
  },
  {
   "cell_type": "code",
   "execution_count": 46,
   "id": "73500fde",
   "metadata": {},
   "outputs": [
    {
     "name": "stdout",
     "output_type": "stream",
     "text": [
      "<class 'pandas.core.frame.DataFrame'>\n",
      "Int64Index: 141404 entries, 0 to 151111\n",
      "Data columns (total 8 columns):\n",
      " #   Column          Non-Null Count   Dtype \n",
      "---  ------          --------------   ----- \n",
      " 0   signup_time     141404 non-null  object\n",
      " 1   purchase_time   141404 non-null  object\n",
      " 2   purchase_value  141404 non-null  int64 \n",
      " 3   source          141404 non-null  object\n",
      " 4   browser         141404 non-null  object\n",
      " 5   sex             141404 non-null  object\n",
      " 6   class           141404 non-null  int64 \n",
      " 7   category        141404 non-null  object\n",
      "dtypes: int64(2), object(6)\n",
      "memory usage: 13.7+ MB\n"
     ]
    }
   ],
   "source": [
    "df.info()"
   ]
  },
  {
   "cell_type": "code",
   "execution_count": 48,
   "id": "32945d02",
   "metadata": {},
   "outputs": [
    {
     "data": {
      "text/html": [
       "<div>\n",
       "<style scoped>\n",
       "    .dataframe tbody tr th:only-of-type {\n",
       "        vertical-align: middle;\n",
       "    }\n",
       "\n",
       "    .dataframe tbody tr th {\n",
       "        vertical-align: top;\n",
       "    }\n",
       "\n",
       "    .dataframe thead th {\n",
       "        text-align: right;\n",
       "    }\n",
       "</style>\n",
       "<table border=\"1\" class=\"dataframe\">\n",
       "  <thead>\n",
       "    <tr style=\"text-align: right;\">\n",
       "      <th></th>\n",
       "      <th>signup_time</th>\n",
       "      <th>purchase_time</th>\n",
       "      <th>purchase_value</th>\n",
       "      <th>source</th>\n",
       "      <th>browser</th>\n",
       "      <th>sex</th>\n",
       "      <th>class</th>\n",
       "      <th>category</th>\n",
       "    </tr>\n",
       "  </thead>\n",
       "  <tbody>\n",
       "    <tr>\n",
       "      <th>0</th>\n",
       "      <td>2015-02-24 22:55:49</td>\n",
       "      <td>2015-04-18 02:47:11</td>\n",
       "      <td>65278</td>\n",
       "      <td>SEO</td>\n",
       "      <td>Chrome</td>\n",
       "      <td>M</td>\n",
       "      <td>0</td>\n",
       "      <td>home_essentials</td>\n",
       "    </tr>\n",
       "    <tr>\n",
       "      <th>1</th>\n",
       "      <td>2015-06-07 20:39:50</td>\n",
       "      <td>2015-06-08 01:38:54</td>\n",
       "      <td>96399</td>\n",
       "      <td>Ads</td>\n",
       "      <td>Chrome</td>\n",
       "      <td>F</td>\n",
       "      <td>0</td>\n",
       "      <td>apparels</td>\n",
       "    </tr>\n",
       "    <tr>\n",
       "      <th>2</th>\n",
       "      <td>2015-01-01 18:52:44</td>\n",
       "      <td>2015-01-01 18:52:45</td>\n",
       "      <td>57296</td>\n",
       "      <td>SEO</td>\n",
       "      <td>Opera</td>\n",
       "      <td>M</td>\n",
       "      <td>1</td>\n",
       "      <td>electronics</td>\n",
       "    </tr>\n",
       "    <tr>\n",
       "      <th>3</th>\n",
       "      <td>2015-04-28 21:13:25</td>\n",
       "      <td>2015-05-04 13:54:50</td>\n",
       "      <td>43650</td>\n",
       "      <td>SEO</td>\n",
       "      <td>Safari</td>\n",
       "      <td>M</td>\n",
       "      <td>0</td>\n",
       "      <td>health_care</td>\n",
       "    </tr>\n",
       "    <tr>\n",
       "      <th>4</th>\n",
       "      <td>2015-07-21 07:09:52</td>\n",
       "      <td>2015-09-09 18:40:53</td>\n",
       "      <td>45016</td>\n",
       "      <td>Ads</td>\n",
       "      <td>Safari</td>\n",
       "      <td>M</td>\n",
       "      <td>0</td>\n",
       "      <td>home_essentials</td>\n",
       "    </tr>\n",
       "  </tbody>\n",
       "</table>\n",
       "</div>"
      ],
      "text/plain": [
       "           signup_time        purchase_time  purchase_value source browser  \\\n",
       "0  2015-02-24 22:55:49  2015-04-18 02:47:11           65278    SEO  Chrome   \n",
       "1  2015-06-07 20:39:50  2015-06-08 01:38:54           96399    Ads  Chrome   \n",
       "2  2015-01-01 18:52:44  2015-01-01 18:52:45           57296    SEO   Opera   \n",
       "3  2015-04-28 21:13:25  2015-05-04 13:54:50           43650    SEO  Safari   \n",
       "4  2015-07-21 07:09:52  2015-09-09 18:40:53           45016    Ads  Safari   \n",
       "\n",
       "  sex  class         category  \n",
       "0   M      0  home_essentials  \n",
       "1   F      0         apparels  \n",
       "2   M      1      electronics  \n",
       "3   M      0      health_care  \n",
       "4   M      0  home_essentials  "
      ]
     },
     "execution_count": 48,
     "metadata": {},
     "output_type": "execute_result"
    }
   ],
   "source": [
    "df.head()"
   ]
  },
  {
   "cell_type": "code",
   "execution_count": 49,
   "id": "1309ca31",
   "metadata": {},
   "outputs": [
    {
     "data": {
      "text/plain": [
       "0    128164\n",
       "1     13240\n",
       "Name: class, dtype: int64"
      ]
     },
     "execution_count": 49,
     "metadata": {},
     "output_type": "execute_result"
    }
   ],
   "source": [
    "df['class'].value_counts()"
   ]
  },
  {
   "cell_type": "code",
   "execution_count": 50,
   "id": "54083db8",
   "metadata": {},
   "outputs": [],
   "source": [
    "#We can see that our class is imbalanced "
   ]
  },
  {
   "cell_type": "markdown",
   "id": "4b4cacc4",
   "metadata": {},
   "source": [
    "# Conversion Of Date Time of Signup  and Purchase Time "
   ]
  },
  {
   "cell_type": "code",
   "execution_count": 51,
   "id": "34232ded",
   "metadata": {},
   "outputs": [
    {
     "data": {
      "text/html": [
       "<div>\n",
       "<style scoped>\n",
       "    .dataframe tbody tr th:only-of-type {\n",
       "        vertical-align: middle;\n",
       "    }\n",
       "\n",
       "    .dataframe tbody tr th {\n",
       "        vertical-align: top;\n",
       "    }\n",
       "\n",
       "    .dataframe thead th {\n",
       "        text-align: right;\n",
       "    }\n",
       "</style>\n",
       "<table border=\"1\" class=\"dataframe\">\n",
       "  <thead>\n",
       "    <tr style=\"text-align: right;\">\n",
       "      <th></th>\n",
       "      <th>signup_time</th>\n",
       "      <th>purchase_time</th>\n",
       "      <th>purchase_value</th>\n",
       "      <th>source</th>\n",
       "      <th>browser</th>\n",
       "      <th>sex</th>\n",
       "      <th>class</th>\n",
       "      <th>category</th>\n",
       "      <th>tot_mins_diff</th>\n",
       "    </tr>\n",
       "  </thead>\n",
       "  <tbody>\n",
       "    <tr>\n",
       "      <th>0</th>\n",
       "      <td>2015-02-24 22:55:49</td>\n",
       "      <td>2015-04-18 02:47:11</td>\n",
       "      <td>65278</td>\n",
       "      <td>SEO</td>\n",
       "      <td>Chrome</td>\n",
       "      <td>M</td>\n",
       "      <td>0</td>\n",
       "      <td>home_essentials</td>\n",
       "      <td>75111.366667</td>\n",
       "    </tr>\n",
       "    <tr>\n",
       "      <th>1</th>\n",
       "      <td>2015-06-07 20:39:50</td>\n",
       "      <td>2015-06-08 01:38:54</td>\n",
       "      <td>96399</td>\n",
       "      <td>Ads</td>\n",
       "      <td>Chrome</td>\n",
       "      <td>F</td>\n",
       "      <td>0</td>\n",
       "      <td>apparels</td>\n",
       "      <td>299.066667</td>\n",
       "    </tr>\n",
       "    <tr>\n",
       "      <th>2</th>\n",
       "      <td>2015-01-01 18:52:44</td>\n",
       "      <td>2015-01-01 18:52:45</td>\n",
       "      <td>57296</td>\n",
       "      <td>SEO</td>\n",
       "      <td>Opera</td>\n",
       "      <td>M</td>\n",
       "      <td>1</td>\n",
       "      <td>electronics</td>\n",
       "      <td>0.016667</td>\n",
       "    </tr>\n",
       "    <tr>\n",
       "      <th>3</th>\n",
       "      <td>2015-04-28 21:13:25</td>\n",
       "      <td>2015-05-04 13:54:50</td>\n",
       "      <td>43650</td>\n",
       "      <td>SEO</td>\n",
       "      <td>Safari</td>\n",
       "      <td>M</td>\n",
       "      <td>0</td>\n",
       "      <td>health_care</td>\n",
       "      <td>8201.416667</td>\n",
       "    </tr>\n",
       "    <tr>\n",
       "      <th>4</th>\n",
       "      <td>2015-07-21 07:09:52</td>\n",
       "      <td>2015-09-09 18:40:53</td>\n",
       "      <td>45016</td>\n",
       "      <td>Ads</td>\n",
       "      <td>Safari</td>\n",
       "      <td>M</td>\n",
       "      <td>0</td>\n",
       "      <td>home_essentials</td>\n",
       "      <td>72691.016667</td>\n",
       "    </tr>\n",
       "  </tbody>\n",
       "</table>\n",
       "</div>"
      ],
      "text/plain": [
       "           signup_time        purchase_time  purchase_value source browser  \\\n",
       "0  2015-02-24 22:55:49  2015-04-18 02:47:11           65278    SEO  Chrome   \n",
       "1  2015-06-07 20:39:50  2015-06-08 01:38:54           96399    Ads  Chrome   \n",
       "2  2015-01-01 18:52:44  2015-01-01 18:52:45           57296    SEO   Opera   \n",
       "3  2015-04-28 21:13:25  2015-05-04 13:54:50           43650    SEO  Safari   \n",
       "4  2015-07-21 07:09:52  2015-09-09 18:40:53           45016    Ads  Safari   \n",
       "\n",
       "  sex  class         category  tot_mins_diff  \n",
       "0   M      0  home_essentials   75111.366667  \n",
       "1   F      0         apparels     299.066667  \n",
       "2   M      1      electronics       0.016667  \n",
       "3   M      0      health_care    8201.416667  \n",
       "4   M      0  home_essentials   72691.016667  "
      ]
     },
     "execution_count": 51,
     "metadata": {},
     "output_type": "execute_result"
    }
   ],
   "source": [
    "import datetime as dt\n",
    "df['tot_mins_diff']=pd.to_datetime(df['purchase_time'])-pd.to_datetime(df['signup_time'])\n",
    "\n",
    "df.head()\n",
    "\n",
    "df['tot_mins_diff'] = df['tot_mins_diff'].dt.total_seconds()\n",
    "\n",
    "# Conversion of Difference in Minutes \n",
    "\n",
    "df['tot_mins_diff']=df['tot_mins_diff']/60\n",
    "\n",
    "df.head()"
   ]
  },
  {
   "cell_type": "code",
   "execution_count": 52,
   "id": "77b5e106",
   "metadata": {},
   "outputs": [],
   "source": [
    "df.drop(['signup_time','purchase_time'],axis=1,inplace=True)"
   ]
  },
  {
   "cell_type": "markdown",
   "id": "0a732953",
   "metadata": {},
   "source": [
    "# Customer segmentation on the basis of difference between signup time and purchase time"
   ]
  },
  {
   "cell_type": "code",
   "execution_count": 53,
   "id": "5a54db39",
   "metadata": {},
   "outputs": [
    {
     "data": {
      "text/html": [
       "<div>\n",
       "<style scoped>\n",
       "    .dataframe tbody tr th:only-of-type {\n",
       "        vertical-align: middle;\n",
       "    }\n",
       "\n",
       "    .dataframe tbody tr th {\n",
       "        vertical-align: top;\n",
       "    }\n",
       "\n",
       "    .dataframe thead th {\n",
       "        text-align: right;\n",
       "    }\n",
       "</style>\n",
       "<table border=\"1\" class=\"dataframe\">\n",
       "  <thead>\n",
       "    <tr style=\"text-align: right;\">\n",
       "      <th></th>\n",
       "      <th>user_id</th>\n",
       "      <th>signup_time</th>\n",
       "      <th>purchase_time</th>\n",
       "      <th>purchase_value</th>\n",
       "      <th>device_id</th>\n",
       "      <th>source</th>\n",
       "      <th>browser</th>\n",
       "      <th>sex</th>\n",
       "      <th>ip_address</th>\n",
       "      <th>class</th>\n",
       "      <th>category</th>\n",
       "      <th>dob</th>\n",
       "      <th>Purchase_Amount_Cat</th>\n",
       "      <th>tot_mins_diff</th>\n",
       "    </tr>\n",
       "  </thead>\n",
       "  <tbody>\n",
       "    <tr>\n",
       "      <th>0</th>\n",
       "      <td>22058</td>\n",
       "      <td>2015-02-24 22:55:49</td>\n",
       "      <td>2015-04-18 02:47:11</td>\n",
       "      <td>65278</td>\n",
       "      <td>QVPSPJUOCKZAR</td>\n",
       "      <td>SEO</td>\n",
       "      <td>Chrome</td>\n",
       "      <td>M</td>\n",
       "      <td>7.327584e+08</td>\n",
       "      <td>0</td>\n",
       "      <td>home_essentials</td>\n",
       "      <td>22-2-1976</td>\n",
       "      <td>purchase_value Between  50k and 100k</td>\n",
       "      <td>75111.366667</td>\n",
       "    </tr>\n",
       "    <tr>\n",
       "      <th>1</th>\n",
       "      <td>333320</td>\n",
       "      <td>2015-06-07 20:39:50</td>\n",
       "      <td>2015-06-08 01:38:54</td>\n",
       "      <td>96399</td>\n",
       "      <td>EOGFQPIZPYXFZ</td>\n",
       "      <td>Ads</td>\n",
       "      <td>Chrome</td>\n",
       "      <td>F</td>\n",
       "      <td>3.503114e+08</td>\n",
       "      <td>0</td>\n",
       "      <td>apparels</td>\n",
       "      <td>2-1-1962</td>\n",
       "      <td>purchase_value Between  50k and 100k</td>\n",
       "      <td>299.066667</td>\n",
       "    </tr>\n",
       "    <tr>\n",
       "      <th>2</th>\n",
       "      <td>1359</td>\n",
       "      <td>2015-01-01 18:52:44</td>\n",
       "      <td>2015-01-01 18:52:45</td>\n",
       "      <td>57296</td>\n",
       "      <td>YSSKYOSJHPPLJ</td>\n",
       "      <td>SEO</td>\n",
       "      <td>Opera</td>\n",
       "      <td>M</td>\n",
       "      <td>2.621474e+09</td>\n",
       "      <td>1</td>\n",
       "      <td>electronics</td>\n",
       "      <td>5-3-1962</td>\n",
       "      <td>purchase_value Between  50k and 100k</td>\n",
       "      <td>0.016667</td>\n",
       "    </tr>\n",
       "    <tr>\n",
       "      <th>3</th>\n",
       "      <td>150084</td>\n",
       "      <td>2015-04-28 21:13:25</td>\n",
       "      <td>2015-05-04 13:54:50</td>\n",
       "      <td>43650</td>\n",
       "      <td>ATGTXKYKUDUQN</td>\n",
       "      <td>SEO</td>\n",
       "      <td>Safari</td>\n",
       "      <td>M</td>\n",
       "      <td>3.840542e+09</td>\n",
       "      <td>0</td>\n",
       "      <td>health_care</td>\n",
       "      <td>3-7-1974</td>\n",
       "      <td>purchase_value in 20k and 50k</td>\n",
       "      <td>8201.416667</td>\n",
       "    </tr>\n",
       "    <tr>\n",
       "      <th>4</th>\n",
       "      <td>221365</td>\n",
       "      <td>2015-07-21 07:09:52</td>\n",
       "      <td>2015-09-09 18:40:53</td>\n",
       "      <td>45016</td>\n",
       "      <td>NAUITBZFJKHWW</td>\n",
       "      <td>Ads</td>\n",
       "      <td>Safari</td>\n",
       "      <td>M</td>\n",
       "      <td>4.155831e+08</td>\n",
       "      <td>0</td>\n",
       "      <td>home_essentials</td>\n",
       "      <td>25-8-1970</td>\n",
       "      <td>purchase_value in 20k and 50k</td>\n",
       "      <td>72691.016667</td>\n",
       "    </tr>\n",
       "  </tbody>\n",
       "</table>\n",
       "</div>"
      ],
      "text/plain": [
       "   user_id          signup_time        purchase_time  purchase_value  \\\n",
       "0    22058  2015-02-24 22:55:49  2015-04-18 02:47:11           65278   \n",
       "1   333320  2015-06-07 20:39:50  2015-06-08 01:38:54           96399   \n",
       "2     1359  2015-01-01 18:52:44  2015-01-01 18:52:45           57296   \n",
       "3   150084  2015-04-28 21:13:25  2015-05-04 13:54:50           43650   \n",
       "4   221365  2015-07-21 07:09:52  2015-09-09 18:40:53           45016   \n",
       "\n",
       "       device_id source browser sex    ip_address class         category  \\\n",
       "0  QVPSPJUOCKZAR    SEO  Chrome   M  7.327584e+08     0  home_essentials   \n",
       "1  EOGFQPIZPYXFZ    Ads  Chrome   F  3.503114e+08     0         apparels   \n",
       "2  YSSKYOSJHPPLJ    SEO   Opera   M  2.621474e+09     1      electronics   \n",
       "3  ATGTXKYKUDUQN    SEO  Safari   M  3.840542e+09     0      health_care   \n",
       "4  NAUITBZFJKHWW    Ads  Safari   M  4.155831e+08     0  home_essentials   \n",
       "\n",
       "         dob                   Purchase_Amount_Cat  tot_mins_diff  \n",
       "0  22-2-1976  purchase_value Between  50k and 100k   75111.366667  \n",
       "1   2-1-1962  purchase_value Between  50k and 100k     299.066667  \n",
       "2   5-3-1962  purchase_value Between  50k and 100k       0.016667  \n",
       "3   3-7-1974         purchase_value in 20k and 50k    8201.416667  \n",
       "4  25-8-1970         purchase_value in 20k and 50k   72691.016667  "
      ]
     },
     "execution_count": 53,
     "metadata": {},
     "output_type": "execute_result"
    }
   ],
   "source": [
    "import datetime as dt\n",
    "df1['tot_mins_diff']=pd.to_datetime(df1['purchase_time'])-pd.to_datetime(df1['signup_time'])\n",
    "\n",
    "df1.head()\n",
    "\n",
    "df1['tot_mins_diff'] = df1['tot_mins_diff'].dt.total_seconds()\n",
    "\n",
    "# Conversion of Difference in Minutes \n",
    "\n",
    "df1['tot_mins_diff']=df1['tot_mins_diff']/60\n",
    "\n",
    "df1.head()"
   ]
  },
  {
   "cell_type": "code",
   "execution_count": 54,
   "id": "59e63635",
   "metadata": {},
   "outputs": [
    {
     "data": {
      "text/plain": [
       "172799.53333333333"
      ]
     },
     "execution_count": 54,
     "metadata": {},
     "output_type": "execute_result"
    }
   ],
   "source": [
    "df1['tot_mins_diff'].max()"
   ]
  },
  {
   "cell_type": "code",
   "execution_count": 55,
   "id": "6ffb3d9d",
   "metadata": {},
   "outputs": [
    {
     "data": {
      "text/plain": [
       "0.016666666666666666"
      ]
     },
     "execution_count": 55,
     "metadata": {},
     "output_type": "execute_result"
    }
   ],
   "source": [
    "df1['tot_mins_diff'].min()"
   ]
  },
  {
   "cell_type": "code",
   "execution_count": 56,
   "id": "24bdc1cd",
   "metadata": {},
   "outputs": [
    {
     "data": {
      "text/plain": [
       "81063.32718711476"
      ]
     },
     "execution_count": 56,
     "metadata": {},
     "output_type": "execute_result"
    }
   ],
   "source": [
    "df1['tot_mins_diff'].mean()"
   ]
  },
  {
   "cell_type": "code",
   "execution_count": 57,
   "id": "df6ac770",
   "metadata": {},
   "outputs": [
    {
     "data": {
      "text/plain": [
       "80775.15833333333"
      ]
     },
     "execution_count": 57,
     "metadata": {},
     "output_type": "execute_result"
    }
   ],
   "source": [
    "df1['tot_mins_diff'].median()"
   ]
  },
  {
   "cell_type": "code",
   "execution_count": 58,
   "id": "008e63c1",
   "metadata": {},
   "outputs": [],
   "source": [
    "df1['total_mins_diff']=pd.cut(df['tot_mins_diff'],bins=[0.01 ,1000,50000,173000],\n",
    "                                labels=['time between 0 to 1000 min','time between 1000 to 50000 min','time between 50000 to 1730000 min'])"
   ]
  },
  {
   "cell_type": "code",
   "execution_count": 59,
   "id": "d9746762",
   "metadata": {},
   "outputs": [
    {
     "data": {
      "image/png": "[encoded data removed]",
      "text/plain": [
       "<Figure size 432x288 with 1 Axes>"
      ]
     },
     "metadata": {
      "needs_background": "light"
     },
     "output_type": "display_data"
    }
   ],
   "source": [
    "(pd.crosstab(df1['total_mins_diff'],df1['class'],normalize=True)*100).plot(kind=\"bar\")\n",
    "plt.show()"
   ]
  },
  {
   "cell_type": "code",
   "execution_count": 60,
   "id": "7fdb91cb",
   "metadata": {},
   "outputs": [],
   "source": [
    "# Most of the fraud transactions are betwwen to 0 to 1000 mins of interval.\n",
    "# We can also observe that fraud people are taking less time than people who are making regular transaction.\n",
    "# people who are making Regular transactions are taking more time than 1000 mins."
   ]
  },
  {
   "cell_type": "markdown",
   "id": "ab84e67f",
   "metadata": {},
   "source": [
    "# Customer segmentation on the basis of different age group"
   ]
  },
  {
   "cell_type": "code",
   "execution_count": 61,
   "id": "e667dbb1",
   "metadata": {},
   "outputs": [],
   "source": [
    "import datetime as dt\n",
    "df1['dob'] = pd.to_datetime(df1['dob'], format = \"%d-%m-%Y\")\n",
    "now = pd.Timestamp('now')\n",
    "df1['age'] = (now - df1['dob'])\n",
    "df1['age']  = df1['age'].astype(str)\n",
    "df1[['age','age_waste']] = df1['age'].str.split(\"days\",expand=True)"
   ]
  },
  {
   "cell_type": "code",
   "execution_count": 62,
   "id": "b369b857",
   "metadata": {},
   "outputs": [],
   "source": [
    "df1 = df1.drop(['age_waste'],axis = 1)"
   ]
  },
  {
   "cell_type": "code",
   "execution_count": 63,
   "id": "acb0ed14",
   "metadata": {},
   "outputs": [
    {
     "name": "stdout",
     "output_type": "stream",
     "text": [
      "<class 'pandas.core.frame.DataFrame'>\n",
      "RangeIndex: 151112 entries, 0 to 151111\n",
      "Data columns (total 16 columns):\n",
      " #   Column               Non-Null Count   Dtype         \n",
      "---  ------               --------------   -----         \n",
      " 0   user_id              151112 non-null  int64         \n",
      " 1   signup_time          151112 non-null  object        \n",
      " 2   purchase_time        151112 non-null  object        \n",
      " 3   purchase_value       151112 non-null  int64         \n",
      " 4   device_id            151112 non-null  object        \n",
      " 5   source               151112 non-null  object        \n",
      " 6   browser              151112 non-null  object        \n",
      " 7   sex                  146185 non-null  object        \n",
      " 8   ip_address           151112 non-null  float64       \n",
      " 9   class                151112 non-null  object        \n",
      " 10  category             151112 non-null  object        \n",
      " 11  dob                  146188 non-null  datetime64[ns]\n",
      " 12  Purchase_Amount_Cat  141403 non-null  category      \n",
      " 13  tot_mins_diff        151112 non-null  float64       \n",
      " 14  total_mins_diff      141404 non-null  category      \n",
      " 15  age                  151112 non-null  object        \n",
      "dtypes: category(2), datetime64[ns](1), float64(2), int64(2), object(9)\n",
      "memory usage: 16.4+ MB\n"
     ]
    }
   ],
   "source": [
    "df1.info()"
   ]
  },
  {
   "cell_type": "code",
   "execution_count": 64,
   "id": "73d32864",
   "metadata": {},
   "outputs": [],
   "source": [
    "\n",
    "df1['age'] = pd.to_numeric(df1['age'], errors='coerce')"
   ]
  },
  {
   "cell_type": "code",
   "execution_count": 65,
   "id": "9b2dee87",
   "metadata": {},
   "outputs": [],
   "source": [
    "df1['age']=df1['age']/365"
   ]
  },
  {
   "cell_type": "code",
   "execution_count": 66,
   "id": "d8d27315",
   "metadata": {},
   "outputs": [
    {
     "data": {
      "text/plain": [
       "82.81917808219178"
      ]
     },
     "execution_count": 66,
     "metadata": {},
     "output_type": "execute_result"
    }
   ],
   "source": [
    "df1['age'].max()"
   ]
  },
  {
   "cell_type": "code",
   "execution_count": 67,
   "id": "349a32fa",
   "metadata": {},
   "outputs": [
    {
     "data": {
      "text/plain": [
       "24.164383561643834"
      ]
     },
     "execution_count": 67,
     "metadata": {},
     "output_type": "execute_result"
    }
   ],
   "source": [
    "df1['age'].min()"
   ]
  },
  {
   "cell_type": "code",
   "execution_count": 68,
   "id": "db8d78c9",
   "metadata": {},
   "outputs": [
    {
     "data": {
      "text/plain": [
       "40.5070352456641"
      ]
     },
     "execution_count": 68,
     "metadata": {},
     "output_type": "execute_result"
    }
   ],
   "source": [
    "df1['age'].mean()"
   ]
  },
  {
   "cell_type": "code",
   "execution_count": 69,
   "id": "a02fdf3a",
   "metadata": {},
   "outputs": [
    {
     "data": {
      "text/plain": [
       "39.534246575342465"
      ]
     },
     "execution_count": 69,
     "metadata": {},
     "output_type": "execute_result"
    }
   ],
   "source": [
    "df1['age'].median()"
   ]
  },
  {
   "cell_type": "code",
   "execution_count": 70,
   "id": "1061cdb2",
   "metadata": {},
   "outputs": [],
   "source": [
    "df1['age']=pd.cut(df1['age'],bins=[20,35,50,83],\n",
    "                                labels=['age between 20 to 35','age between 35 to 50','age between 50 to 83'])"
   ]
  },
  {
   "cell_type": "code",
   "execution_count": 71,
   "id": "5dc466b8",
   "metadata": {},
   "outputs": [
    {
     "data": {
      "image/png": "[encoded data removed]",
      "text/plain": [
       "<Figure size 432x288 with 1 Axes>"
      ]
     },
     "metadata": {
      "needs_background": "light"
     },
     "output_type": "display_data"
    }
   ],
   "source": [
    "(pd.crosstab(df1['age'],df1['class'],normalize=True)*100).plot(kind=\"bar\")\n",
    "plt.show()"
   ]
  },
  {
   "cell_type": "code",
   "execution_count": 72,
   "id": "654068bb",
   "metadata": {},
   "outputs": [],
   "source": [
    "# Fraud transactions are higher between the ages of 50 to 83.\n",
    "# Most of the regular transactions are done by the age group of 35 to 50."
   ]
  },
  {
   "cell_type": "code",
   "execution_count": 73,
   "id": "1e7323aa",
   "metadata": {},
   "outputs": [],
   "source": [
    "# Here We are converting categorical data into dummy or indicator variables.\n",
    "df=pd.get_dummies(df,drop_first=True)"
   ]
  },
  {
   "cell_type": "code",
   "execution_count": 75,
   "id": "798f8099",
   "metadata": {},
   "outputs": [
    {
     "data": {
      "text/plain": [
       "<AxesSubplot:>"
      ]
     },
     "execution_count": 75,
     "metadata": {},
     "output_type": "execute_result"
    },
    {
     "data": {
      "image/png": "[encoded data removed]",
      "text/plain": [
       "<Figure size 576x576 with 2 Axes>"
      ]
     },
     "metadata": {
      "needs_background": "light"
     },
     "output_type": "display_data"
    }
   ],
   "source": [
    "plt.figure(figsize=[8,8])\n",
    "sns.heatmap(df.corr()[df.corr()>0.5],annot=True)"
   ]
  },
  {
   "cell_type": "code",
   "execution_count": 76,
   "id": "97495a74",
   "metadata": {},
   "outputs": [],
   "source": [
    "# No strong co-relation with the target class"
   ]
  },
  {
   "cell_type": "markdown",
   "id": "ee4b9d99",
   "metadata": {},
   "source": [
    "# Base Model"
   ]
  },
  {
   "cell_type": "code",
   "execution_count": 77,
   "id": "f62efbad",
   "metadata": {},
   "outputs": [],
   "source": [
    "from sklearn.model_selection import train_test_split\n",
    "from sklearn.linear_model import LogisticRegression"
   ]
  },
  {
   "cell_type": "code",
   "execution_count": 78,
   "id": "0fee0a29",
   "metadata": {},
   "outputs": [],
   "source": [
    "X=df.drop('class',axis=1)\n",
    "y=df['class']"
   ]
  },
  {
   "cell_type": "code",
   "execution_count": 79,
   "id": "17b03940",
   "metadata": {},
   "outputs": [],
   "source": [
    "X_train, X_test, y_train, y_test = train_test_split(X, y, test_size=0.20, random_state=10)"
   ]
  },
  {
   "cell_type": "code",
   "execution_count": 80,
   "id": "4ee89071",
   "metadata": {},
   "outputs": [],
   "source": [
    "logrg = LogisticRegression(solver='lbfgs')\n",
    "logrg_model=logrg.fit(X_train, y_train)\n",
    "ypred_prob = logrg_model.predict(X_test)"
   ]
  },
  {
   "cell_type": "code",
   "execution_count": 82,
   "id": "715d9f67",
   "metadata": {},
   "outputs": [
    {
     "data": {
      "text/plain": [
       "0    28281\n",
       "dtype: int64"
      ]
     },
     "execution_count": 82,
     "metadata": {},
     "output_type": "execute_result"
    }
   ],
   "source": [
    "pd.Series(ypred_prob).value_counts()\n",
    "#No Fraud Class detected"
   ]
  },
  {
   "cell_type": "code",
   "execution_count": 83,
   "id": "9b07581d",
   "metadata": {},
   "outputs": [
    {
     "data": {
      "text/plain": [
       "0    25636\n",
       "1     2645\n",
       "Name: class, dtype: int64"
      ]
     },
     "execution_count": 83,
     "metadata": {},
     "output_type": "execute_result"
    }
   ],
   "source": [
    "y_test.value_counts()"
   ]
  },
  {
   "cell_type": "code",
   "execution_count": 84,
   "id": "e555c9e6",
   "metadata": {},
   "outputs": [
    {
     "name": "stdout",
     "output_type": "stream",
     "text": [
      "[[25636     0]\n",
      " [ 2645     0]]\n"
     ]
    }
   ],
   "source": [
    "cm_lr = confusion_matrix(y_test, ypred_prob)\n",
    "print(cm_lr)"
   ]
  },
  {
   "cell_type": "code",
   "execution_count": 85,
   "id": "abd38623",
   "metadata": {},
   "outputs": [],
   "source": [
    "TN = cm_lr[0,0]\n",
    "\n",
    "TP = cm_lr[1,1]\n",
    "\n",
    "FP = cm_lr[0,1]\n",
    "\n",
    "FN = cm_lr[1,0]"
   ]
  },
  {
   "cell_type": "code",
   "execution_count": 86,
   "id": "5d7302e1",
   "metadata": {},
   "outputs": [
    {
     "name": "stderr",
     "output_type": "stream",
     "text": [
      "<ipython-input-86-49c923b76999>:2: RuntimeWarning: invalid value encountered in longlong_scalars\n",
      "  precision_lr = TP/(TP+FP)\n"
     ]
    },
    {
     "data": {
      "text/plain": [
       "nan"
      ]
     },
     "execution_count": 86,
     "metadata": {},
     "output_type": "execute_result"
    }
   ],
   "source": [
    "# precision\n",
    "precision_lr = TP/(TP+FP)\n",
    "precision_lr"
   ]
  },
  {
   "cell_type": "code",
   "execution_count": 87,
   "id": "5198f1f5",
   "metadata": {},
   "outputs": [
    {
     "data": {
      "text/plain": [
       "0.0"
      ]
     },
     "execution_count": 87,
     "metadata": {},
     "output_type": "execute_result"
    }
   ],
   "source": [
    "# recall(true positive rate)\n",
    "recall_lr = TP/(TP+FN)\n",
    "recall_lr"
   ]
  },
  {
   "cell_type": "code",
   "execution_count": 88,
   "id": "2256a81a",
   "metadata": {},
   "outputs": [
    {
     "data": {
      "text/plain": [
       "nan"
      ]
     },
     "execution_count": 88,
     "metadata": {},
     "output_type": "execute_result"
    }
   ],
   "source": [
    "# f1 score\n",
    "f1_score_lr = 2*((precision_lr*recall_lr)/(precision_lr+recall_lr))\n",
    "f1_score_lr"
   ]
  },
  {
   "cell_type": "code",
   "execution_count": 89,
   "id": "f6a696e5",
   "metadata": {},
   "outputs": [
    {
     "name": "stdout",
     "output_type": "stream",
     "text": [
      "              precision    recall  f1-score   support\n",
      "\n",
      "           0       0.91      1.00      0.95     25636\n",
      "           1       0.00      0.00      0.00      2645\n",
      "\n",
      "    accuracy                           0.91     28281\n",
      "   macro avg       0.45      0.50      0.48     28281\n",
      "weighted avg       0.82      0.91      0.86     28281\n",
      "\n"
     ]
    },
    {
     "name": "stderr",
     "output_type": "stream",
     "text": [
      "C:\\Users\\ayush\\anaconda3\\lib\\site-packages\\sklearn\\metrics\\_classification.py:1248: UndefinedMetricWarning: Precision and F-score are ill-defined and being set to 0.0 in labels with no predicted samples. Use `zero_division` parameter to control this behavior.\n",
      "  _warn_prf(average, modifier, msg_start, len(result))\n",
      "C:\\Users\\ayush\\anaconda3\\lib\\site-packages\\sklearn\\metrics\\_classification.py:1248: UndefinedMetricWarning: Precision and F-score are ill-defined and being set to 0.0 in labels with no predicted samples. Use `zero_division` parameter to control this behavior.\n",
      "  _warn_prf(average, modifier, msg_start, len(result))\n",
      "C:\\Users\\ayush\\anaconda3\\lib\\site-packages\\sklearn\\metrics\\_classification.py:1248: UndefinedMetricWarning: Precision and F-score are ill-defined and being set to 0.0 in labels with no predicted samples. Use `zero_division` parameter to control this behavior.\n",
      "  _warn_prf(average, modifier, msg_start, len(result))\n"
     ]
    }
   ],
   "source": [
    "# classification report\n",
    "cr_lr = classification_report(y_test, ypred_prob)\n",
    "print(cr_lr)\n",
    "\n",
    "#As we can see that model is not able to perform good on our Target Class hence we need to oversample or try another model."
   ]
  },
  {
   "cell_type": "code",
   "execution_count": 90,
   "id": "c9e82a53",
   "metadata": {},
   "outputs": [],
   "source": [
    "ypred_prob_train = logrg.fit(X_train, y_train).predict(X_train)"
   ]
  },
  {
   "cell_type": "code",
   "execution_count": 91,
   "id": "a6099cd9",
   "metadata": {},
   "outputs": [
    {
     "data": {
      "text/plain": [
       "0.91"
      ]
     },
     "execution_count": 91,
     "metadata": {},
     "output_type": "execute_result"
    }
   ],
   "source": [
    "# accauracy score on train\n",
    "round(accuracy_score(y_train,ypred_prob_train),2)"
   ]
  },
  {
   "cell_type": "code",
   "execution_count": 92,
   "id": "91fa0117",
   "metadata": {},
   "outputs": [
    {
     "data": {
      "text/plain": [
       "0.91"
      ]
     },
     "execution_count": 92,
     "metadata": {},
     "output_type": "execute_result"
    }
   ],
   "source": [
    "# accuracy score on test\n",
    "round(accuracy_score(y_test,ypred_prob),2)"
   ]
  },
  {
   "cell_type": "raw",
   "id": "91b5d237",
   "metadata": {},
   "source": [
    "We can see that train and test are having same accuracy hence no overfitting "
   ]
  },
  {
   "cell_type": "markdown",
   "id": "31ce489a",
   "metadata": {},
   "source": [
    "# Using Smote to Balance the Class "
   ]
  },
  {
   "cell_type": "code",
   "execution_count": 93,
   "id": "b0c0b2c0",
   "metadata": {},
   "outputs": [],
   "source": [
    "from imblearn.over_sampling import SMOTE\n",
    "sm = SMOTE()\n",
    "X_train_sm, y_train_sm= sm.fit_resample(X_train, y_train.astype('int'))"
   ]
  },
  {
   "cell_type": "code",
   "execution_count": 94,
   "id": "c230c4db",
   "metadata": {},
   "outputs": [
    {
     "data": {
      "text/plain": [
       "0    128164\n",
       "1     13240\n",
       "Name: class, dtype: int64"
      ]
     },
     "execution_count": 94,
     "metadata": {},
     "output_type": "execute_result"
    }
   ],
   "source": [
    "df['class'].value_counts()"
   ]
  },
  {
   "cell_type": "code",
   "execution_count": 95,
   "id": "748f5a93",
   "metadata": {},
   "outputs": [
    {
     "data": {
      "text/plain": [
       "0    102528\n",
       "1    102528\n",
       "Name: class, dtype: int64"
      ]
     },
     "execution_count": 95,
     "metadata": {},
     "output_type": "execute_result"
    }
   ],
   "source": [
    "y_train_sm.value_counts()"
   ]
  },
  {
   "cell_type": "code",
   "execution_count": 96,
   "id": "6dee6ac7",
   "metadata": {},
   "outputs": [
    {
     "name": "stdout",
     "output_type": "stream",
     "text": [
      "              precision    recall  f1-score   support\n",
      "\n",
      "           0       0.97      0.76      0.85     25636\n",
      "           1       0.25      0.78      0.38      2645\n",
      "\n",
      "    accuracy                           0.76     28281\n",
      "   macro avg       0.61      0.77      0.61     28281\n",
      "weighted avg       0.90      0.76      0.81     28281\n",
      "\n",
      "\n",
      "RFC score  0.7545987305116568\n",
      "\n",
      "[[19453  6183]\n",
      " [  595  2050]]\n",
      "\n",
      "train score  0.7545304697253433\n",
      "\n",
      "test score  0.760333793005905\n"
     ]
    }
   ],
   "source": [
    "\n",
    "lr=LogisticRegression(random_state=20,solver='liblinear')\n",
    "lr_model=lr.fit(X_train_sm,y_train_sm)\n",
    "\n",
    "y_pred_smote=lr_model.predict(X_test)\n",
    "\n",
    "print(classification_report(y_test,y_pred_smote))\n",
    "print()\n",
    "print('RFC score ',np.mean(cross_val_score(lr,X_train_sm,y_train_sm,cv=5)))\n",
    "print()\n",
    "print(confusion_matrix(y_test,y_pred_smote))\n",
    "print()\n",
    "print('train score ',lr_model.score(X_train_sm,y_train_sm))\n",
    "print()\n",
    "print('test score ',lr_model.score(X_test,y_test))"
   ]
  },
  {
   "cell_type": "code",
   "execution_count": 97,
   "id": "11bf27c2",
   "metadata": {},
   "outputs": [],
   "source": [
    "# Since our model has imporved for the Target class we can say that it has improved,but we will try with another models.\n",
    "# Train AND Test are not having equal score which means model is not underfitting. "
   ]
  },
  {
   "cell_type": "markdown",
   "id": "5ff3b826",
   "metadata": {},
   "source": [
    "# Using Decision tree model"
   ]
  },
  {
   "cell_type": "code",
   "execution_count": 98,
   "id": "2e9c8b80",
   "metadata": {},
   "outputs": [
    {
     "name": "stdout",
     "output_type": "stream",
     "text": [
      "              precision    recall  f1-score   support\n",
      "\n",
      "           0       0.97      0.92      0.94     25636\n",
      "           1       0.46      0.70      0.55      2645\n",
      "\n",
      "    accuracy                           0.90     28281\n",
      "   macro avg       0.71      0.81      0.75     28281\n",
      "weighted avg       0.92      0.90      0.90     28281\n",
      "\n",
      "\n",
      "RFC score  0.9158622657879494\n",
      "\n",
      "[[23488  2148]\n",
      " [  805  1840]]\n",
      "\n",
      "train score  1.0\n",
      "\n",
      "test score  0.895583607368905\n"
     ]
    }
   ],
   "source": [
    "from sklearn.tree import DecisionTreeClassifier\n",
    "dc=DecisionTreeClassifier(random_state=10)\n",
    "dc_model=dc.fit(X_train_sm,y_train_sm)\n",
    "\n",
    "y_pred_dc=dc_model.predict(X_test)\n",
    "\n",
    "print(classification_report(y_test,y_pred_dc))\n",
    "print()\n",
    "\n",
    "print('RFC score ',np.mean(cross_val_score(dc,X_train_sm,y_train_sm,cv=5)))\n",
    "print()\n",
    "print(confusion_matrix(y_test,y_pred_dc))\n",
    "print()\n",
    "print('train score ',dc_model.score(X_train_sm,y_train_sm))\n",
    "print()\n",
    "print('test score ',dc_model.score(X_test,y_test))"
   ]
  },
  {
   "cell_type": "code",
   "execution_count": 99,
   "id": "e35865b8",
   "metadata": {},
   "outputs": [],
   "source": [
    "#Model is Overfitting"
   ]
  },
  {
   "cell_type": "markdown",
   "id": "56f856d9",
   "metadata": {},
   "source": [
    "# Using Random forest"
   ]
  },
  {
   "cell_type": "code",
   "execution_count": 100,
   "id": "872c93fb",
   "metadata": {},
   "outputs": [
    {
     "name": "stdout",
     "output_type": "stream",
     "text": [
      "              precision    recall  f1-score   support\n",
      "\n",
      "           0       0.97      0.95      0.96     25636\n",
      "           1       0.59      0.70      0.64      2645\n",
      "\n",
      "    accuracy                           0.93     28281\n",
      "   macro avg       0.78      0.83      0.80     28281\n",
      "weighted avg       0.93      0.93      0.93     28281\n",
      "\n",
      "\n",
      "RFC score  0.9427183917416775\n",
      "\n",
      "[[24366  1270]\n",
      " [  791  1854]]\n",
      "\n",
      "train score  0.9999658629837703\n",
      "\n",
      "test score  0.9271242176726424\n"
     ]
    }
   ],
   "source": [
    "from sklearn.ensemble import GradientBoostingClassifier,RandomForestClassifier\n",
    "Rfc=RandomForestClassifier(random_state=10)\n",
    "Rfc_model=Rfc.fit(X_train_sm,y_train_sm)\n",
    "\n",
    "y_pred_rfc=Rfc_model.predict(X_test)\n",
    "\n",
    "print(classification_report(y_test,y_pred_rfc))\n",
    "print()\n",
    "print('RFC score ',np.mean(cross_val_score(Rfc,X_train_sm,y_train_sm,cv=5)))\n",
    "print()\n",
    "print(confusion_matrix(y_test,y_pred_rfc))\n",
    "print()\n",
    "print('train score ',Rfc_model.score(X_train_sm,y_train_sm))\n",
    "print()\n",
    "print('test score ',Rfc_model.score(X_test,y_test))"
   ]
  },
  {
   "cell_type": "code",
   "execution_count": null,
   "id": "49383fda",
   "metadata": {},
   "outputs": [],
   "source": [
    "# Model is overfitting"
   ]
  },
  {
   "cell_type": "raw",
   "id": "29479c1c",
   "metadata": {},
   "source": [
    "param=[{'criterion' :['entropy', 'gini'],\n",
    "'n_estimators' : [ 150,180,200],\n",
    "'max_depth' : [12, 15,20],\n",
    "'min_samples_split' : [2, 5, 8]}]\n",
    " \n",
    "from sklearn.model_selection import GridSearchCV\n",
    "grid=GridSearchCV(estimator=Rfc,param_grid=param)\n",
    "grid_model=grid.fit(X_train_sm,y_train_sm)\n",
    "\n",
    "grid_model.best_params_"
   ]
  },
  {
   "cell_type": "markdown",
   "id": "2c787957",
   "metadata": {},
   "source": [
    "# Tuned Random Forest Model"
   ]
  },
  {
   "cell_type": "code",
   "execution_count": 101,
   "id": "6ae99422",
   "metadata": {},
   "outputs": [
    {
     "name": "stdout",
     "output_type": "stream",
     "text": [
      "              precision    recall  f1-score   support\n",
      "\n",
      "           0       0.97      0.94      0.95     25636\n",
      "           1       0.54      0.70      0.61      2645\n",
      "\n",
      "    accuracy                           0.92     28281\n",
      "   macro avg       0.75      0.82      0.78     28281\n",
      "weighted avg       0.93      0.92      0.92     28281\n",
      "\n",
      "\n",
      "RFC score  0.9289806745975048\n",
      "\n",
      "[[24046  1590]\n",
      " [  789  1856]]\n",
      "\n",
      "train score  0.9611667056803995\n",
      "\n",
      "test score  0.9158799193805028\n"
     ]
    }
   ],
   "source": [
    "from sklearn.ensemble import GradientBoostingClassifier,RandomForestClassifier\n",
    "Rfc=RandomForestClassifier(random_state=10,criterion='gini',max_depth= 20,min_samples_split= 2,n_estimators =200)\n",
    "Rfc_modeltune=Rfc.fit(X_train_sm,y_train_sm)\n",
    "\n",
    "y_pred_tune=Rfc_modeltune.predict(X_test)\n",
    "\n",
    "print(classification_report(y_test,y_pred_tune))\n",
    "print()\n",
    "print('RFC score ',np.mean(cross_val_score(Rfc_modeltune,X_train_sm,y_train_sm,cv=5)))\n",
    "print()\n",
    "print(confusion_matrix(y_test,y_pred_tune))\n",
    "print()\n",
    "print('train score ',Rfc_modeltune.score(X_train_sm,y_train_sm))\n",
    "print()\n",
    "print('test score ',Rfc_modeltune.score(X_test,y_test))"
   ]
  },
  {
   "cell_type": "code",
   "execution_count": null,
   "id": "e4293b78",
   "metadata": {},
   "outputs": [],
   "source": [
    "# Model is overfitting"
   ]
  },
  {
   "cell_type": "markdown",
   "id": "18cc94d6",
   "metadata": {},
   "source": [
    "# Using adaboost model"
   ]
  },
  {
   "cell_type": "code",
   "execution_count": 102,
   "id": "b2c25773",
   "metadata": {},
   "outputs": [
    {
     "name": "stdout",
     "output_type": "stream",
     "text": [
      "              precision    recall  f1-score   support\n",
      "\n",
      "           0       0.97      0.93      0.95     25636\n",
      "           1       0.51      0.71      0.59      2645\n",
      "\n",
      "    accuracy                           0.91     28281\n",
      "   macro avg       0.74      0.82      0.77     28281\n",
      "weighted avg       0.93      0.91      0.92     28281\n",
      "\n",
      "\n",
      "RFC score  0.9054553504369018\n",
      "\n",
      "[[23840  1796]\n",
      " [  774  1871]]\n",
      "train score  0.9079373439450686\n",
      "test score  0.9091262685195007\n"
     ]
    }
   ],
   "source": [
    "from sklearn.ensemble import AdaBoostClassifier\n",
    "abc=AdaBoostClassifier(random_state=20)\n",
    "abc_model=abc.fit(X_train_sm,y_train_sm)\n",
    "\n",
    "y_pred_ada=abc_model.predict(X_test)\n",
    "\n",
    "print(classification_report(y_test,y_pred_ada))\n",
    "print()\n",
    "\n",
    "print('RFC score ',np.mean(cross_val_score(abc,X_train_sm,y_train_sm,cv=5)))\n",
    "print()\n",
    "print(confusion_matrix(y_test,y_pred_ada))\n",
    "\n",
    "print('train score ',abc_model.score(X_train_sm,y_train_sm))\n",
    "\n",
    "print('test score ',abc_model.score(X_test,y_test))"
   ]
  },
  {
   "cell_type": "code",
   "execution_count": null,
   "id": "21827623",
   "metadata": {},
   "outputs": [],
   "source": []
  },
  {
   "cell_type": "code",
   "execution_count": 103,
   "id": "bd8ed40e",
   "metadata": {},
   "outputs": [],
   "source": [
    "from sklearn.model_selection import ParameterGrid\n",
    "\n",
    "import parfit.parfit as pf\n",
    "\n",
    "from sklearn.metrics import roc_auc_score, recall_score\n",
    "#Check first with Adaboost\n",
    "ad = AdaBoostClassifier()\n",
    "\n",
    "paramGrid = ParameterGrid({\n",
    "    'n_estimators': [100,150,175,200,250],\n",
    "    'learning_rate': [0.1,0.3,0.5,0.7,0.9]    \n",
    "})"
   ]
  },
  {
   "cell_type": "code",
   "execution_count": 104,
   "id": "d8b3140c",
   "metadata": {},
   "outputs": [
    {
     "name": "stdout",
     "output_type": "stream",
     "text": [
      "-------------FITTING MODELS-------------\n"
     ]
    },
    {
     "name": "stderr",
     "output_type": "stream",
     "text": [
      "[Parallel(n_jobs=-1)]: Using backend LokyBackend with 8 concurrent workers.\n",
      "[Parallel(n_jobs=-1)]: Done   2 tasks      | elapsed:   31.3s\n",
      "[Parallel(n_jobs=-1)]: Done   9 tasks      | elapsed:  1.2min\n",
      "[Parallel(n_jobs=-1)]: Done  13 out of  25 | elapsed:  1.6min remaining:  1.5min\n",
      "[Parallel(n_jobs=-1)]: Done  16 out of  25 | elapsed:  1.8min remaining:  1.0min\n",
      "[Parallel(n_jobs=-1)]: Done  19 out of  25 | elapsed:  2.1min remaining:   40.3s\n",
      "[Parallel(n_jobs=-1)]: Done  22 out of  25 | elapsed:  2.3min remaining:   19.0s\n",
      "[Parallel(n_jobs=-1)]: Done  25 out of  25 | elapsed:  2.5min remaining:    0.0s\n",
      "[Parallel(n_jobs=-1)]: Done  25 out of  25 | elapsed:  2.5min finished\n",
      "[Parallel(n_jobs=-1)]: Using backend LokyBackend with 8 concurrent workers.\n"
     ]
    },
    {
     "name": "stdout",
     "output_type": "stream",
     "text": [
      "-------------SCORING MODELS-------------\n"
     ]
    },
    {
     "name": "stderr",
     "output_type": "stream",
     "text": [
      "[Parallel(n_jobs=-1)]: Done  25 out of  25 | elapsed:   17.7s finished\n"
     ]
    },
    {
     "data": {
      "image/png": "[encoded data removed]",
      "text/plain": [
       "<Figure size 288x288 with 2 Axes>"
      ]
     },
     "metadata": {
      "needs_background": "light"
     },
     "output_type": "display_data"
    }
   ],
   "source": [
    "best_model, best_score, all_models, all_scores = pf.bestFit(ad, paramGrid, \n",
    "     X_train,y_train,X_test, y_test, \n",
    "     metric=recall_score, scoreLabel='recall')"
   ]
  },
  {
   "cell_type": "markdown",
   "id": "d21287f0",
   "metadata": {},
   "source": [
    "# Tunned Adaboost"
   ]
  },
  {
   "cell_type": "code",
   "execution_count": 105,
   "id": "a08bd98d",
   "metadata": {},
   "outputs": [
    {
     "name": "stdout",
     "output_type": "stream",
     "text": [
      "              precision    recall  f1-score   support\n",
      "\n",
      "           0       0.97      0.93      0.95     25636\n",
      "           1       0.51      0.71      0.59      2645\n",
      "\n",
      "    accuracy                           0.91     28281\n",
      "   macro avg       0.74      0.82      0.77     28281\n",
      "weighted avg       0.93      0.91      0.92     28281\n",
      "\n",
      "\n",
      "RFC score  0.8843097334874696\n",
      "\n",
      "[[23840  1796]\n",
      " [  774  1871]]\n",
      "train score  0.8827052122347067\n",
      "test score  0.9545277748311587\n"
     ]
    }
   ],
   "source": [
    "from sklearn.ensemble import AdaBoostClassifier\n",
    "abc=AdaBoostClassifier(random_state=20,n_estimators=100,learning_rate=0.1)\n",
    "abc_model_tune=abc.fit(X_train_sm,y_train_sm)\n",
    "\n",
    "y_pred_ada_tune=abc_model.predict(X_test)\n",
    "\n",
    "print(classification_report(y_test,y_pred_ada_tune))\n",
    "print()\n",
    "\n",
    "print('RFC score ',np.mean(cross_val_score(abc,X_train_sm,y_train_sm,cv=5)))\n",
    "print()\n",
    "print(confusion_matrix(y_test,y_pred_ada_tune))\n",
    "\n",
    "print('train score ',abc_model_tune.score(X_train_sm,y_train_sm))\n",
    "\n",
    "print('test score ',abc_model_tune.score(X_test,y_test))"
   ]
  },
  {
   "cell_type": "markdown",
   "id": "4f05df54",
   "metadata": {},
   "source": [
    "# Gradient Boost Model"
   ]
  },
  {
   "cell_type": "code",
   "execution_count": 106,
   "id": "f25450fb",
   "metadata": {},
   "outputs": [
    {
     "name": "stdout",
     "output_type": "stream",
     "text": [
      "              precision    recall  f1-score   support\n",
      "\n",
      "           0       0.97      0.93      0.95     25636\n",
      "           1       0.51      0.71      0.59      2645\n",
      "\n",
      "    accuracy                           0.91     28281\n",
      "   macro avg       0.74      0.82      0.77     28281\n",
      "weighted avg       0.93      0.91      0.92     28281\n",
      "\n",
      "\n",
      "RFC score  0.9076790914949913\n",
      "\n",
      "[[23836  1800]\n",
      " [  771  1874]]\n",
      "train score  0.9082153167915106\n",
      "test score  0.9090909090909091\n"
     ]
    }
   ],
   "source": [
    "from sklearn.ensemble import GradientBoostingClassifier\n",
    "gb = GradientBoostingClassifier(random_state=10)\n",
    "pred_test_gb_sm = gb.fit(X_train_sm,y_train_sm).predict(X_test)\n",
    "\n",
    "print(classification_report(y_test,pred_test_gb_sm))\n",
    "print()\n",
    "\n",
    "print('RFC score ',np.mean(cross_val_score(gb,X_train_sm,y_train_sm,cv=5)))\n",
    "print()\n",
    "print(confusion_matrix(y_test,pred_test_gb_sm))\n",
    "\n",
    "print('train score ',gb.score(X_train_sm,y_train_sm))\n",
    "\n",
    "print('test score ',gb.score(X_test,y_test))"
   ]
  },
  {
   "cell_type": "markdown",
   "id": "025fa45c",
   "metadata": {},
   "source": [
    "# Using XGboost"
   ]
  },
  {
   "cell_type": "code",
   "execution_count": 107,
   "id": "62ff7e13",
   "metadata": {},
   "outputs": [
    {
     "name": "stdout",
     "output_type": "stream",
     "text": [
      "              precision    recall  f1-score   support\n",
      "\n",
      "           0       0.97      0.94      0.95     25636\n",
      "           1       0.55      0.71      0.62      2645\n",
      "\n",
      "    accuracy                           0.92     28281\n",
      "   macro avg       0.76      0.82      0.79     28281\n",
      "weighted avg       0.93      0.92      0.92     28281\n",
      "\n",
      "\n",
      "RFC score  0.914496809039558\n",
      "\n",
      "[[24098  1538]\n",
      " [  779  1866]]\n",
      "train score  0.9222651373283396\n",
      "test score  0.9180722039531841\n"
     ]
    }
   ],
   "source": [
    "from xgboost import XGBClassifier\n",
    "xgb=XGBClassifier(random_state=10,eval_metric='logloss',use_label_encoder=False)\n",
    "xgb_model=xgb.fit(X_train_sm,y_train_sm)\n",
    "y_pred_xgb=xgb_model.predict(X_test)\n",
    "\n",
    "print(classification_report(y_test,y_pred_xgb))\n",
    "print()\n",
    "\n",
    "print('RFC score ',np.mean(cross_val_score(xgb,X_train_sm,y_train_sm,cv=5)))\n",
    "print()\n",
    "print(confusion_matrix(y_test,y_pred_xgb))\n",
    "\n",
    "print('train score ',xgb_model.score(X_train_sm,y_train_sm))\n",
    "\n",
    "print('test score ',xgb_model.score(X_test,y_test))"
   ]
  },
  {
   "cell_type": "markdown",
   "id": "597ec0a2",
   "metadata": {},
   "source": [
    "# Use of Parfit for model tuning"
   ]
  },
  {
   "cell_type": "code",
   "execution_count": 108,
   "id": "c76f3dd0",
   "metadata": {},
   "outputs": [
    {
     "name": "stdout",
     "output_type": "stream",
     "text": [
      "-------------FITTING MODELS-------------\n"
     ]
    },
    {
     "name": "stderr",
     "output_type": "stream",
     "text": [
      "[Parallel(n_jobs=-1)]: Using backend LokyBackend with 8 concurrent workers.\n",
      "[Parallel(n_jobs=-1)]: Done   2 tasks      | elapsed:   48.5s\n",
      "[Parallel(n_jobs=-1)]: Done   9 tasks      | elapsed:  2.0min\n",
      "[Parallel(n_jobs=-1)]: Done  13 out of  25 | elapsed:  2.7min remaining:  2.5min\n",
      "[Parallel(n_jobs=-1)]: Done  16 out of  25 | elapsed:  3.1min remaining:  1.8min\n",
      "[Parallel(n_jobs=-1)]: Done  19 out of  25 | elapsed:  3.7min remaining:  1.2min\n",
      "[Parallel(n_jobs=-1)]: Done  22 out of  25 | elapsed:  4.1min remaining:   33.1s\n",
      "[Parallel(n_jobs=-1)]: Done  25 out of  25 | elapsed:  4.4min remaining:    0.0s\n",
      "[Parallel(n_jobs=-1)]: Done  25 out of  25 | elapsed:  4.4min finished\n",
      "[Parallel(n_jobs=-1)]: Using backend LokyBackend with 8 concurrent workers.\n"
     ]
    },
    {
     "name": "stdout",
     "output_type": "stream",
     "text": [
      "-------------SCORING MODELS-------------\n"
     ]
    },
    {
     "name": "stderr",
     "output_type": "stream",
     "text": [
      "[Parallel(n_jobs=-1)]: Done  25 out of  25 | elapsed:    3.1s finished\n"
     ]
    },
    {
     "data": {
      "image/png": "[encoded data removed]",
      "text/plain": [
       "<Figure size 288x288 with 2 Axes>"
      ]
     },
     "metadata": {
      "needs_background": "light"
     },
     "output_type": "display_data"
    }
   ],
   "source": [
    "from sklearn.model_selection import ParameterGrid\n",
    "\n",
    "import parfit.parfit as pf\n",
    "\n",
    "from sklearn.metrics import roc_auc_score, recall_score\n",
    "xg = XGBClassifier()\n",
    "\n",
    "paramGrid = ParameterGrid({\n",
    "    'n_estimators': [100,150,175,200,250],\n",
    "    'learning_rate': [0.1,0.3,0.5,0.7,0.9],\n",
    "    \n",
    "})\n",
    "best_model, best_score, all_models, all_scores = pf.bestFit(xg, paramGrid, \n",
    "     X_train_sm, y_train_sm, X_test, y_test, \n",
    "     metric=precision_score, scoreLabel='precison')"
   ]
  },
  {
   "cell_type": "markdown",
   "id": "3cfbce16",
   "metadata": {},
   "source": [
    "# Tunned XG Boost"
   ]
  },
  {
   "cell_type": "code",
   "execution_count": 109,
   "id": "c8e0b7c7",
   "metadata": {},
   "outputs": [
    {
     "name": "stdout",
     "output_type": "stream",
     "text": [
      "              precision    recall  f1-score   support\n",
      "\n",
      "           0       0.97      0.94      0.95     25636\n",
      "           1       0.55      0.71      0.62      2645\n",
      "\n",
      "    accuracy                           0.92     28281\n",
      "   macro avg       0.76      0.82      0.79     28281\n",
      "weighted avg       0.93      0.92      0.92     28281\n",
      "\n",
      "\n",
      "RFC score  0.9200465063048279\n",
      "\n",
      "[[24098  1538]\n",
      " [  779  1866]]\n",
      "train score  0.9359296972534332\n",
      "test score  0.9205473639545985\n"
     ]
    }
   ],
   "source": [
    "from xgboost import XGBClassifier\n",
    "xgb=XGBClassifier(random_state=10,eval_metric='logloss',use_label_encoder=False,n_estimators=250,learning_rate=0.3)\n",
    "xgb_model_tune=xgb.fit(X_train_sm,y_train_sm)\n",
    "y_pred_xgb_tune=xgb_model.predict(X_test)\n",
    "\n",
    "print(classification_report(y_test,y_pred_xgb_tune))\n",
    "print()\n",
    "\n",
    "print('RFC score ',np.mean(cross_val_score(xgb,X_train_sm,y_train_sm,cv=5)))\n",
    "print()\n",
    "print(confusion_matrix(y_test,y_pred_xgb_tune))\n",
    "\n",
    "print('train score ',xgb_model_tune.score(X_train_sm,y_train_sm))\n",
    "\n",
    "print('test score ',xgb_model_tune.score(X_test,y_test))"
   ]
  },
  {
   "cell_type": "code",
   "execution_count": 110,
   "id": "d978b5e9",
   "metadata": {},
   "outputs": [
    {
     "name": "stdout",
     "output_type": "stream",
     "text": [
      "0.9359296972534332\n"
     ]
    },
    {
     "data": {
      "image/png": "[encoded data removed]",
      "text/plain": [
       "<Figure size 432x288 with 1 Axes>"
      ]
     },
     "metadata": {
      "needs_background": "light"
     },
     "output_type": "display_data"
    }
   ],
   "source": [
    "from sklearn.metrics import accuracy_score, classification_report, roc_auc_score, roc_curve\n",
    "y_pred_xgb_tune = xgb.fit(X_train_sm, y_train_sm).predict(X_train_sm)\n",
    "print(accuracy_score(y_train_sm, y_pred_xgb_tune))\n",
    "\n",
    "y_pred_prob_train = xgb.predict_proba(X_train_sm)[:,1]\n",
    "    \n",
    "# the roc_curve() returns the values for false positive rate, true positive rate and threshold\n",
    "# pass the actual target values and predicted probabilities to the function\n",
    "\n",
    "fpr, tpr, thresholds = roc_curve(y_train_sm, y_pred_prob_train)\n",
    "\n",
    "\n",
    "# plot the ROC curve\n",
    "plt.plot(fpr, tpr)\n",
    "\n",
    "# set limits for x and y axes\n",
    "plt.xlim([0.0, 1.0])\n",
    "plt.ylim([0.0, 1.0])\n",
    "\n",
    "# plot the straight line showing worst prediction for the model\n",
    "\n",
    "plt.plot([0, 1], [0, 1],'r--')\n",
    "plt.title('ROC curve for Loan Default Prediction Classifier on Train Data', fontsize = 12)\n",
    "plt.xlabel('False positive rate', fontsize = 12)\n",
    "plt.ylabel('True positive rate', fontsize = 12)\n",
    "\n",
    "# add the AUC score to the plot\n",
    "# 'x' and 'y' gives position of the text\n",
    "# 's' is the text \n",
    "# use round() to round-off the AUC score upto 4 digits\n",
    "\n",
    "plt.text(x = 0.02, y = 0.9, s = ('AUC Score:',round(roc_auc_score(y_train_sm, y_pred_xgb_tune),4)))\n",
    "\n",
    "# plot the grid\n",
    "plt.grid(True)"
   ]
  },
  {
   "cell_type": "code",
   "execution_count": 111,
   "id": "09487031",
   "metadata": {},
   "outputs": [
    {
     "name": "stderr",
     "output_type": "stream",
     "text": [
      "C:\\Users\\ayush\\anaconda3\\lib\\site-packages\\seaborn\\_decorators.py:36: FutureWarning: Pass the following variables as keyword args: x, y. From version 0.12, the only valid positional argument will be `data`, and passing other arguments without an explicit keyword will result in an error or misinterpretation.\n",
      "  warnings.warn(\n"
     ]
    },
    {
     "data": {
      "image/png": "[encoded data removed]",
      "text/plain": [
       "<Figure size 432x288 with 1 Axes>"
      ]
     },
     "metadata": {
      "needs_background": "light"
     },
     "output_type": "display_data"
    }
   ],
   "source": [
    "from sklearn.model_selection import cross_val_score\n",
    "score_val = cross_val_score(xgb,X= X_train_sm,y= y_train_sm, cv = 5, scoring = 'recall')\n",
    "score_val\n",
    "\n",
    "fold = ['F1', 'F2', 'F3', 'F4', 'F5']\n",
    "sns.barplot(score_val, fold)\n",
    "plt.xlabel('Recall Score')\n",
    "plt.ylabel('Folds')\n",
    "plt.show()"
   ]
  },
  {
   "cell_type": "code",
   "execution_count": 112,
   "id": "9bf13682",
   "metadata": {},
   "outputs": [
    {
     "name": "stdout",
     "output_type": "stream",
     "text": [
      "average mean recall score is     -->>>>> 0.8981064339225637\n"
     ]
    }
   ],
   "source": [
    "print('average mean recall score is     -->>>>>',score_val.mean())"
   ]
  },
  {
   "cell_type": "code",
   "execution_count": 113,
   "id": "24004392",
   "metadata": {},
   "outputs": [
    {
     "data": {
      "image/png": "[encoded data removed]",
      "text/plain": [
       "<Figure size 576x432 with 1 Axes>"
      ]
     },
     "metadata": {
      "needs_background": "light"
     },
     "output_type": "display_data"
    }
   ],
   "source": [
    "# create a dataframe that stores the feature names and their importance\n",
    "# 'feature_importances_' returns the features based on the gini importance\n",
    "important_features = pd.DataFrame({'Features': X_train_sm.columns, \n",
    "                                   'Importance': xgb.feature_importances_})\n",
    "\n",
    "# sort the dataframe in the descending order according to the feature importance\n",
    "important_features = important_features.sort_values('Importance', ascending = False)\n",
    "\n",
    "plt.figure(figsize = (8,6))\n",
    "# create a barplot to visualize the features based on their importance\n",
    "sns.barplot(x = 'Importance', y = 'Features', data = important_features)\n",
    "\n",
    "# add plot and axes labels\n",
    "# set text size using 'fontsize'\n",
    "plt.title('Feature Importance', fontsize = 15)\n",
    "plt.xlabel('Importance', fontsize = 15)\n",
    "plt.ylabel('Features', fontsize = 15)\n",
    "\n",
    "# display the plot\n",
    "plt.show()"
   ]
  },
  {
   "cell_type": "code",
   "execution_count": 114,
   "id": "c12f65b0",
   "metadata": {},
   "outputs": [],
   "source": [
    "# We can finally see that there's no overfitting issue in our model\n",
    "# After using SMOTE, the accuracy score of both train and test set is very much close to each other.\n",
    "\n",
    "# We also see that our TunedXGboost model attains a significant high roc auc score of 93% on test set.\n",
    "# and Mean Cross validation recall score of 89%. "
   ]
  }
 ],
 "metadata": {
  "kernelspec": {
   "display_name": "Python 3",
   "language": "python",
   "name": "python3"
  },
  "language_info": {
   "codemirror_mode": {
    "name": "ipython",
    "version": 3
   },
   "file_extension": ".py",
   "mimetype": "text/x-python",
   "name": "python",
   "nbconvert_exporter": "python",
   "pygments_lexer": "ipython3",
   "version": "3.8.10"
  }
 },
 "nbformat": 4,
 "nbformat_minor": 5
}
